{
  "nbformat": 4,
  "nbformat_minor": 0,
  "metadata": {
    "colab": {
      "provenance": []
    },
    "kernelspec": {
      "name": "python3",
      "display_name": "Python 3"
    },
    "language_info": {
      "name": "python"
    }
  },
  "cells": [
    {
      "cell_type": "markdown",
      "source": [
        "Desafío 3: Convertidor de temperaturas\n",
        "Realizar conversiones de una temperatura dada en Celsius a Fahrenheit y Kelvin utilizando operaciones directas sobre variables.\n",
        "\n",
        "Lo primero que necesito es obtener del usuario, la temperatura que debo convertir. Por lo que recurro a un input, para registrarla.\n",
        "Como la información se almacena en forma de dato alfanumerico, debo mediante float convertirla en un número real.\n",
        "Luego debo mediante las formulas de converción calcular la temperatura en fahrenheit y en Kelvin y almacenarla para luego brindarle al usuario esa información clara mediante print\n",
        "\n",
        "No use metodos de validación debido a que aún no se como pedirle al programa que detecte una respuesta invalida por ejemplo una palabra en lugar de un número y responda de forma adecuada, por ejemplo; esa no es una temperatura valida"
      ],
      "metadata": {
        "id": "mOPhdF3XRGh7"
      }
    },
    {
      "cell_type": "code",
      "source": [
        "print(\"Mediante este programa podrá convertir la temperatura dada en grados Celsius a Fahrenheit y Kelvin\") #Un saludo y presentación de la finalidad del programa\n",
        "\n",
        "print(\"\") # Para dejar una linea libre para mejorar la presentación (se utiliza en diferentes partes del codigo)\n",
        "\n",
        "celsius_alfa = input(\"Digita la temperatura que desea convertir: \")\n",
        "# se le pide al usuario que ingrese la temperatura elegida, la cual se guarda en celsius_alfa como dato alfanumerico\n",
        "\n",
        "celsius = float(celsius_alfa)\n",
        "# Se convierte el dato alfanumerico en número real\n",
        "\n",
        "print(\"\")\n",
        "\n",
        "fahrenheit = celsius * 9/5 + 32 # Formula de conversion de celsius a fahrenheit fuente: ChatGPT\n",
        "\n",
        "kelvin = celsius + 273.15 # Formula de conversion de celsius a kelvin fuente: ChatGPT\n",
        "\n",
        "print(\"La temperatura en Fahrenheit es:\", fahrenheit) # Se genera un mensaje con el dato convertido\n",
        "\n",
        "print(\"La temperatura en Kelvin es:\", kelvin) # Se genera un mensaje con el dato convertido\n",
        "\n",
        "print(\"\")\n",
        "\n",
        "print(\"Gracias por llegar hasa aquí. Pulse <enter> para salir\")# Un saludo de despedida\n",
        "\n",
        "\n"
      ],
      "metadata": {
        "colab": {
          "base_uri": "https://localhost:8080/"
        },
        "id": "Jq5ZucYTGWVJ",
        "outputId": "32539bf4-2962-40ce-b926-2177da3e6e6a"
      },
      "execution_count": null,
      "outputs": [
        {
          "output_type": "stream",
          "name": "stdout",
          "text": [
            "Mediante este programa podrá convertir la temperatura dada en grados Celsius a Fahrenheit y Kelvin\n",
            "\n",
            "Digita la temperatura que desea convertir: 23\n",
            "\n",
            "La temperatura en Fahrenheit es: 73.4\n",
            "La temperatura en Kelvin es: 296.15\n",
            "\n",
            "Gracias por llegar hasa aquí. Pulse <enter> para salir\n"
          ]
        }
      ]
    },
    {
      "cell_type": "markdown",
      "source": [
        "Desafío 4: Verificar múltiplos de varios números\n",
        "Crear un programa que, dado un número, verifique si es múltiplo de: 2, 3, 5, 7, 9, 10 y 11. Imprimir un mensaje por cada verificación.\n",
        "\n",
        "Lo primero que necesito obtener del usuario, es un número para determinar si es múltiplo de alguno de los números planteados en la consigna.\n",
        "Como la información es guardada como dato alfanumerico, uso el int para convertirlo en un número entro.\n",
        "\n",
        "**¿Como determino si un número es múltiplo?**\n",
        "*Si x, al divirse entre y, da como resto 0. Implica que x es multiplo de y*\n",
        "En python obtener dicho resto se hace mediante mod (%) por lo tanto si el número mod y es igual a 0 el número es multiplo de y.\n",
        "\n",
        "Una vez tenga un número, determino mediante la condición anterior si es multiplo.\n",
        "Si la condición se cumple mediante if se emite que que es multiplo, de lo contrario mediante else, se emite que no es multiplo\n",
        "\n",
        "Dicho razonamiento se repite con cada uno de los números de los cuales se quiera saber si es múltiplo o no, en la consigna se plantean el 2, 3, 5, 7, 9, 10 y 11. Cada uno se plantea por separado, para poder darle la información de si es multiplo o no, de cada uno al usuario\n",
        "\n",
        "No use metodos de validación debido a que aún no se como pedirle al programa que detecte una respuesta invalida por ejemplo una palabra en lugar de un número o el número 0 y responda de forma adecuada, por ejemplo; ese no es un valor valido."
      ],
      "metadata": {
        "id": "CQSPgi7nTnhF"
      }
    },
    {
      "cell_type": "code",
      "source": [
        "print(\"Mediante este programa sepa si un número es divisible entre 2, 3, 5, 7, 9, 10 u 11\")\n",
        "#Un saludo y presentación de la finalidad del programa\n",
        "\n",
        "print(\"\") # Para dejar una linea libre para mejorar la presentación (se utiliza en diferentes partes del codigo)\n",
        "\n",
        "numero_alfa = input(\"Digita el numero que quiera examinar: \")\n",
        "# se le pide al usuario que ingrese un número, el cual se guarda como numero_alfa como dato alfanumerico\n",
        "\n",
        "numero = int(numero_alfa) # Se convierte el dato alfanumerico en número entero\n",
        "\n",
        "print(\"\")\n",
        "if numero % 2 == 0:\n",
        "   print(\"Es múltiplo de 2\")\n",
        "# se divide el numero entre 2 y si el resultado da 0, se emite el mensaje de que es multiplo de 2\n",
        "\n",
        "else:\n",
        "   print(\"No es múltiplo de 2\")\n",
        "# se divide el numero entre 2 y si el resultado es diferente de 0, se emite el mensaje de que no es multiplo de 2\n",
        "\n",
        "print(\"\")\n",
        "\n",
        "if numero % 3 == 0:\n",
        "   print(\"Es múltiplo de 3\")\n",
        "# se divide el numero entre 3 y si el resultado da 0, se emite el mensaje de que es multiplo 3\n",
        "else:\n",
        "   print(\"No es múltiplo de 3\")\n",
        "# se divide el numero entre 3 y si el resultado es diferente de 0, se emite el mensaje de que no es multiplo de 3\n",
        "print(\"\")\n",
        "\n",
        "\n",
        "if numero % 5 == 0:\n",
        "   print(\"Es múltiplo de 5\")\n",
        "# se divide el numero entre 5 y si el resultado da 0, se emite el mensaje de que es multiplo de 5\n",
        "else:\n",
        "   print(\"No es múltiplo de 5\")\n",
        "# se divide el numero entre 5 y si el resultado es diferente de 0, se emite el mensaje de que no es multiplo de 5\n",
        "print(\"\")\n",
        "\n",
        "if numero % 7 == 0:\n",
        "   print(\"Es múltiplo de 7\")\n",
        "# se divide el numero entre 7 y si el resultado da 0, se emite el mensaje de que es multiplo de 7\n",
        "else:\n",
        "   print(\"No es múltiplo de 7\")\n",
        "# se divide el numero entre 7 y si el resultado es diferente de 0, se emite el mensaje de que no es multiplo de 7\n",
        "print(\"\")\n",
        "\n",
        "if numero % 9 == 0:\n",
        "   print(\"Es múltiplo de 9\")\n",
        "# se divide el numero entre 9 y si el resultado da 0, se emite el mensaje de que es multiplo de 9\n",
        "else:\n",
        "   print(\"No es múltiplo de 9\")\n",
        "# se divide el numero entre 9 y si el resultado es diferente de 0, se emite el mensaje de que no es multiplo de 9\n",
        "print(\"\")\n",
        "\n",
        "if numero % 10 == 0:\n",
        "   print(\"Es múltiplo de 10\")\n",
        "# se divide el numero entre 10 y si el resultado da 0, se emite el mensaje de que es multiplo de 10\n",
        "else:\n",
        "   print(\"No es múltiplo de 10\")\n",
        "# se divide el numero entre 10 y si el resultado es diferente de 0, se emite el mensaje de que no es multiplo de 10\n",
        "print(\"\")\n",
        "\n",
        "if numero % 11 == 0:\n",
        "   print(\"Es múltiplo de 11\")\n",
        "# se divide el numero entre 11 y si el resultado da 0, se emite el mensaje de que es multiplo de 11\n",
        "else:\n",
        "   print(\"No es múltiplo de 11\")\n",
        "# se divide el numero entre 11 y si el resultado es diferente de 0, se emite el mensaje de que no es multiplo de 11\n",
        "print(\"\")\n",
        "\n",
        "\n",
        "print(\"Gracias por llegar hasa aquí. Pulse <enter> para salir\") # Un saludo de despedida"
      ],
      "metadata": {
        "colab": {
          "base_uri": "https://localhost:8080/"
        },
        "id": "_xhGLWh4NF-f",
        "outputId": "332fc0ee-2f5b-409b-c34b-f01cc6a2958c"
      },
      "execution_count": null,
      "outputs": [
        {
          "output_type": "stream",
          "name": "stdout",
          "text": [
            "Mediante este programa sepa si un número es divisible entre 2, 3, 5, 7, 9, 10 u 11\n",
            "\n"
          ]
        }
      ]
    },
    {
      "cell_type": "markdown",
      "source": [
        "Webgrafia\n",
        "- ChatGPT"
      ],
      "metadata": {
        "id": "DxjwY9Y5ZuUR"
      }
    }
  ]
}
