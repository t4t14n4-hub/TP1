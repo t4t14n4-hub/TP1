{
  "nbformat": 4,
  "nbformat_minor": 0,
  "metadata": {
    "colab": {
      "provenance": [],
      "authorship_tag": "ABX9TyOADk6VdR9IbBOi8KQOF56b",
      "include_colab_link": true
    },
    "kernelspec": {
      "name": "python3",
      "display_name": "Python 3"
    },
    "language_info": {
      "name": "python"
    }
  },
  "cells": [
    {
      "cell_type": "markdown",
      "metadata": {
        "id": "view-in-github",
        "colab_type": "text"
      },
      "source": [
        "<a href=\"https://colab.research.google.com/github/t4t14n4-hub/TP1/blob/main/Tarea3_7_Arreglos.ipynb\" target=\"_parent\"><img src=\"https://colab.research.google.com/assets/colab-badge.svg\" alt=\"Open In Colab\"/></a>"
      ]
    },
    {
      "cell_type": "markdown",
      "source": [
        "Responder las preguntas 1 y 2 del Desafío 4 (sobre notas de estudiantes):\n",
        "\n",
        "1 - Calcular el promedio de la clase\n"
      ],
      "metadata": {
        "id": "14M03ZR1ehsJ"
      }
    },
    {
      "cell_type": "code",
      "source": [
        "notas = [8, 9, 7, 10, 6, 8, 9, 7, 6, 10]\n",
        "\n",
        "promedio = sum(notas) / len(notas)\n",
        "print(f\"El promedio de la clase es: {promedio}\")"
      ],
      "metadata": {
        "colab": {
          "base_uri": "https://localhost:8080/"
        },
        "id": "XPGbJNhIejF4",
        "outputId": "2844d595-f632-450b-8770-a21503fb82fa"
      },
      "execution_count": 1,
      "outputs": [
        {
          "output_type": "stream",
          "name": "stdout",
          "text": [
            "El promedio de la clase es: 8.0\n"
          ]
        }
      ]
    },
    {
      "cell_type": "markdown",
      "source": [
        "2 -  Encontrar la nota más baja y la más alta"
      ],
      "metadata": {
        "id": "ExyddYwZezsh"
      }
    },
    {
      "cell_type": "code",
      "source": [
        "notas = [8, 9, 7, 10, 6, 8, 9, 7, 6, 10]\n",
        "\n",
        "nota_menor = min(notas)\n",
        "nota_mayor = max(notas)\n",
        "\n",
        "print(f\"La nota más baja es: {nota_menor}\")\n",
        "print(f\"La nota más alta es: {nota_mayor}\")"
      ],
      "metadata": {
        "colab": {
          "base_uri": "https://localhost:8080/"
        },
        "id": "ux1vdWKLe2BF",
        "outputId": "76e200fc-ff9a-48fe-95d5-6bce7bd4d49d"
      },
      "execution_count": 2,
      "outputs": [
        {
          "output_type": "stream",
          "name": "stdout",
          "text": [
            "La nota más baja es: 6\n",
            "La nota más alta es: 10\n"
          ]
        }
      ]
    },
    {
      "cell_type": "markdown",
      "source": [
        "🔹 Optativo a elección (elegir 1):\n",
        "Resolver uno de los siguientes desafíos completos:\n",
        "\n",
        "Desafío 2: Ordenar el inventario de libros sin alterar el original"
      ],
      "metadata": {
        "id": "n5KAQOtXfEXV"
      }
    },
    {
      "cell_type": "code",
      "source": [
        "# Lista original de libros elegidos por mí\n",
        "libros = [\n",
        "    \"Orgullo y prejuicio - Jane Austen\",\n",
        "    \"El hobbit\",\n",
        "    \"La última carta de amor\",\n",
        "    \"Cómo hacer que te pasen cosas buenas - Marian Rojas\",\n",
        "    \"El principito\",\n",
        "    \"La felicidad - Gabriel Rolón\"\n",
        "]\n",
        "\n",
        "# 1. Mostrar la lista original con formato de lista\n",
        "print(\"Lista original de libros:\")\n",
        "for libro in libros:\n",
        "    print(\"•\", libro)\n",
        "\n",
        "# 2. Crear una nueva lista ordenada alfabéticamente (sin alterar la original)\n",
        "libros_ordenados = sorted(libros)\n",
        "\n",
        "# 3. Mostrar la lista ordenada con formato de lista\n",
        "print(\"\\n Lista ordenada alfabéticamente:\")\n",
        "for libro in libros_ordenados:\n",
        "    print(\"•\", libro)\n",
        "\n",
        "# 4. Verificación: mostrar la original para comprobar que no cambió\n",
        "print(\"\\n Verificación: la lista original no fue modificada:\")\n",
        "for libro in libros:\n",
        "    print(\"•\", libro)"
      ],
      "metadata": {
        "colab": {
          "base_uri": "https://localhost:8080/"
        },
        "id": "lszgZ28VgQsL",
        "outputId": "c4566351-74e9-49b4-a846-f212f37c1640"
      },
      "execution_count": 5,
      "outputs": [
        {
          "output_type": "stream",
          "name": "stdout",
          "text": [
            "Lista original de libros:\n",
            "• Orgullo y prejuicio - Jane Austen\n",
            "• El hobbit\n",
            "• La última carta de amor\n",
            "• Cómo hacer que te pasen cosas buenas - Marian Rojas\n",
            "• El principito\n",
            "• La felicidad - Gabriel Rolón\n",
            "\n",
            " Lista ordenada alfabéticamente:\n",
            "• Cómo hacer que te pasen cosas buenas - Marian Rojas\n",
            "• El hobbit\n",
            "• El principito\n",
            "• La felicidad - Gabriel Rolón\n",
            "• La última carta de amor\n",
            "• Orgullo y prejuicio - Jane Austen\n",
            "\n",
            " Verificación: la lista original no fue modificada:\n",
            "• Orgullo y prejuicio - Jane Austen\n",
            "• El hobbit\n",
            "• La última carta de amor\n",
            "• Cómo hacer que te pasen cosas buenas - Marian Rojas\n",
            "• El principito\n",
            "• La felicidad - Gabriel Rolón\n"
          ]
        }
      ]
    },
    {
      "cell_type": "markdown",
      "source": [
        "Soy fanática de la lectura desde que era adolescente, y uno de mis métodos favoritos para ordenar mi librero, es separando por género literario, así que más allá de la consigna me lo plantee como desafío.\n"
      ],
      "metadata": {
        "id": "isljgoitgcxQ"
      }
    },
    {
      "cell_type": "code",
      "source": [
        "libros = [\n",
        "    {\"titulo\": \"Orgullo y prejuicio - Jane Austen\", \"genero\": \"romance\"},\n",
        "    {\"titulo\": \"El hobbit\", \"genero\": \"fantasia\"},\n",
        "    {\"titulo\": \"La última carta de amor\", \"genero\": \"romance\"},\n",
        "    {\"titulo\": \"Cómo hacer que te pasen cosas buenas - Marian Rojas\", \"genero\": \"autoayuda\"},\n",
        "    {\"titulo\": \"El principito\", \"genero\": \"fantasia\"},\n",
        "    {\"titulo\": \"La felicidad - Gabriel Rolón\", \"genero\": \"autoayuda\"}\n",
        "]\n",
        "\n",
        "# Imprimir lista original\n",
        "print(\"Lista original de libros:\")\n",
        "for libro in libros:\n",
        "    print(f\"• {libro['titulo']} ({libro['genero']})\")\n",
        "\n",
        "# Crear listas por género sin modificar la original\n",
        "romance = [libro for libro in libros if libro[\"genero\"] == \"romance\"]\n",
        "fantasia = [libro for libro in libros if libro[\"genero\"] == \"fantasia\"]\n",
        "autoayuda = [libro for libro in libros if libro[\"genero\"] == \"autoayuda\"]\n",
        "\n",
        "print(\"\\n Romance:\")\n",
        "for libro in romance:\n",
        "    print(\"•\", libro[\"titulo\"])\n",
        "\n",
        "print(\"\\n Fantasía:\")\n",
        "for libro in fantasia:\n",
        "    print(\"•\", libro[\"titulo\"])\n",
        "\n",
        "print(\"\\n Autoayuda:\")\n",
        "for libro in autoayuda:\n",
        "    print(\"•\", libro[\"titulo\"])"
      ],
      "metadata": {
        "colab": {
          "base_uri": "https://localhost:8080/"
        },
        "id": "UpIIswhJgrtT",
        "outputId": "dd37b03d-d609-454a-e8ff-138f0093fba9"
      },
      "execution_count": 6,
      "outputs": [
        {
          "output_type": "stream",
          "name": "stdout",
          "text": [
            "Lista original de libros:\n",
            "• Orgullo y prejuicio - Jane Austen (romance)\n",
            "• El hobbit (fantasia)\n",
            "• La última carta de amor (romance)\n",
            "• Cómo hacer que te pasen cosas buenas - Marian Rojas (autoayuda)\n",
            "• El principito (fantasia)\n",
            "• La felicidad - Gabriel Rolón (autoayuda)\n",
            "\n",
            " Romance:\n",
            "• Orgullo y prejuicio - Jane Austen\n",
            "• La última carta de amor\n",
            "\n",
            " Fantasía:\n",
            "• El hobbit\n",
            "• El principito\n",
            "\n",
            " Autoayuda:\n",
            "• Cómo hacer que te pasen cosas buenas - Marian Rojas\n",
            "• La felicidad - Gabriel Rolón\n"
          ]
        }
      ]
    }
  ]
}