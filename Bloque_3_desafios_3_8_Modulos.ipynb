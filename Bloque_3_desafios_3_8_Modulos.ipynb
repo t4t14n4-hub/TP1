{
  "cells": [
    {
      "cell_type": "markdown",
      "metadata": {
        "id": "view-in-github",
        "colab_type": "text"
      },
      "source": [
        "<a href=\"https://colab.research.google.com/github/t4t14n4-hub/TP1/blob/main/Bloque_3_desafios_3_8_Modulos.ipynb\" target=\"_parent\"><img src=\"https://colab.research.google.com/assets/colab-badge.svg\" alt=\"Open In Colab\"/></a>"
      ]
    },
    {
      "cell_type": "markdown",
      "metadata": {
        "id": "GRfXYg4gv5p4"
      },
      "source": [
        "**Desafio 0:**\n",
        "\n",
        "Utiliza el módulo `random` para crear un programa que genere un número aleatorio entre 1 y 100."
      ]
    },
    {
      "cell_type": "code",
      "execution_count": null,
      "metadata": {
        "id": "ieCxbqzzqYSG"
      },
      "outputs": [],
      "source": [
        "import random\n",
        "\n",
        "numero = random.randint(1, 100)\n",
        "print(\"Tu número aleatorio es:\", numero)"
      ]
    },
    {
      "cell_type": "markdown",
      "metadata": {
        "id": "WwISKMydv7F-"
      },
      "source": [
        "**Desafío 2:**\n",
        "\n",
        "Utiliza el módulo `random` de Python para crear un programa que genere una contraseña aleatoria de 8 caracteres que incluya letras minúsculas, letras mayúsculas y números."
      ]
    },
    {
      "cell_type": "code",
      "execution_count": null,
      "metadata": {
        "id": "7ZvJNIynqYSM",
        "outputId": "5d2f370c-52e6-4dde-b941-6188b11698aa"
      },
      "outputs": [
        {
          "name": "stdout",
          "output_type": "stream",
          "text": [
            "Tu contraseña es: 2ubprwYc\n"
          ]
        }
      ],
      "source": [
        "import random\n",
        "import string  # módulo que trae letras y dígitos listos para usar\n",
        "\n",
        "caracteres = string.ascii_lowercase + string.ascii_uppercase + string.digits\n",
        "# ascii_lowercase → a...z\n",
        "# ascii_uppercase → A...Z\n",
        "# digits → 0123456789\n",
        "\n",
        "contraseña = \"\"\n",
        "\n",
        "for i in range(8):\n",
        "    caracter = random.choice(caracteres)\n",
        "    contraseña += caracter\n",
        "\n",
        "print(\"Tu contraseña es:\", contraseña)\n"
      ]
    },
    {
      "cell_type": "markdown",
      "metadata": {
        "id": "FYri2J7fv9eM"
      },
      "source": [
        "**Desafío 3:**\n",
        "\n",
        "Crea un módulo personalizado que contenga funciones para cambiar el formato del texto (por ejemplo, a negrita, itálica, etc.) e impórtalo en un nuevo programa."
      ]
    },
    {
      "cell_type": "code",
      "execution_count": null,
      "metadata": {
        "id": "YDll1NhqqYSP",
        "outputId": "e516f316-de58-4779-c8c4-7d598962ec1e"
      },
      "outputs": [
        {
          "name": "stdout",
          "output_type": "stream",
          "text": [
            "Negrita: **Hola**\n",
            "Itálica: *Hola*\n",
            "Subrayado: __Hola__\n",
            "Mayúsculas: HOLA\n",
            "Minúsculas: hola\n"
          ]
        }
      ],
      "source": [
        "def negrita(texto):\n",
        "    return f\"**{texto}**\"\n",
        "\n",
        "def italica(texto):\n",
        "    return f\"*{texto}*\"\n",
        "\n",
        "def subrayado(texto):\n",
        "    return f\"__{texto}__\"\n",
        "\n",
        "def mayusculas(texto):\n",
        "    return texto.upper()\n",
        "\n",
        "def minusculas(texto):\n",
        "    return texto.lower()\n",
        "\n",
        "\n",
        "# Programa principal\n",
        "texto = input(\"Escribe un texto: \")\n",
        "\n",
        "print(\"Negrita:\", negrita(texto))\n",
        "print(\"Itálica:\", italica(texto))\n",
        "print(\"Subrayado:\", subrayado(texto))\n",
        "print(\"Mayúsculas:\", mayusculas(texto))\n",
        "print(\"Minúsculas:\", minusculas(texto))"
      ]
    },
    {
      "cell_type": "markdown",
      "metadata": {
        "id": "4ROJSavBwAp6"
      },
      "source": [
        "**Desafío 4:**\n",
        "\n",
        "Utiliza el módulo `collections` para analizar un texto y generar estadísticas avanzadas,\n",
        "como las 10 palabras más comunes y su frecuencia.\n",
        "Extiende esto creando un gráfico de barras con matplotlib para visualizar la frecuencia de las palabras."
      ]
    },
    {
      "cell_type": "markdown",
      "metadata": {
        "id": "jCRroLkJwGIq"
      },
      "source": [
        "**Desafío 5:**\n",
        "\n",
        "Utiliza el módulo `os` para interactuar con el sistema operativo y añade características como guardar un archivo o leer un archivo existente en nuestro procesador de texto."
      ]
    },
    {
      "cell_type": "markdown",
      "metadata": {
        "id": "MifW82dywDTR"
      },
      "source": [
        "**Desafio 6:**\n",
        "\n",
        "Calculadora de Fechas\n",
        "Objetivo:\n",
        "Escribir un programa en Python que permita calcular la diferencia entre dos fechas, utilizando el módulo `datetime.`"
      ]
    }
  ],
  "metadata": {
    "colab": {
      "provenance": [],
      "include_colab_link": true
    },
    "kernelspec": {
      "display_name": "Python 3",
      "name": "python3"
    },
    "language_info": {
      "codemirror_mode": {
        "name": "ipython",
        "version": 3
      },
      "file_extension": ".py",
      "mimetype": "text/x-python",
      "name": "python",
      "nbconvert_exporter": "python",
      "pygments_lexer": "ipython3",
      "version": "3.11.9"
    }
  },
  "nbformat": 4,
  "nbformat_minor": 0
}