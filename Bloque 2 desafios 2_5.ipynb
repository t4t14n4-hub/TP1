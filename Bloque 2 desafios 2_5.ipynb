{
  "nbformat": 4,
  "nbformat_minor": 0,
  "metadata": {
    "colab": {
      "provenance": [],
      "authorship_tag": "ABX9TyNETy9BDwkKaPFIiof2Aaw+",
      "include_colab_link": true
    },
    "kernelspec": {
      "name": "python3",
      "display_name": "Python 3"
    },
    "language_info": {
      "name": "python"
    }
  },
  "cells": [
    {
      "cell_type": "markdown",
      "metadata": {
        "id": "view-in-github",
        "colab_type": "text"
      },
      "source": [
        "<a href=\"https://colab.research.google.com/github/t4t14n4-hub/TP1/blob/main/Bloque%202%20desafios%202_5.ipynb\" target=\"_parent\"><img src=\"https://colab.research.google.com/assets/colab-badge.svg\" alt=\"Open In Colab\"/></a>"
      ]
    },
    {
      "cell_type": "markdown",
      "source": [
        "## Desafío 1: Saludo Personalizado\n",
        "Escriba un programa que pida al usuario su nombre y su ciudad de origen, luego imprima un saludo personalizado con esa información.\n"
      ],
      "metadata": {
        "id": "sihLWzebp17J"
      }
    },
    {
      "cell_type": "code",
      "source": [
        "nombre = input(\"¿Cuál es su nombre?: \")\n",
        "ciudad = input(\"¿Dónde nació?: \")\n",
        "\n",
        "print(f\"Bienvenido a Uruguay {nombre}, proveniente de {ciudad}\")"
      ],
      "metadata": {
        "id": "7mG3u5rlg-7k"
      },
      "execution_count": null,
      "outputs": []
    },
    {
      "cell_type": "markdown",
      "source": [
        "\n",
        "## Desafío 2: Calculadora Simple\n",
        "Escriba un programa que pida al usuario que ingrese dos números y luego imprima la suma, la resta, la multiplicación y la división de esos números.\n"
      ],
      "metadata": {
        "id": "uRQbaxMJp4FB"
      }
    },
    {
      "cell_type": "code",
      "source": [
        "print(\"Calculadora basica\")\n",
        "\n",
        "numero1 = int(input(\"Ingrese el número 1: \"))\n",
        "numero2 = int(input(\"Ingrese el número 2: \"))\n",
        "\n",
        "suma = numero1 + numero2\n",
        "resta = numero1 - numero2\n",
        "division = numero1 / numero2\n",
        "multiplicacion = numero1 * numero2\n",
        "\n",
        "print(f\" {numero1} + {numero2} = {suma}\")\n",
        "print(f\" {numero1} - {numero2} = {resta}\")\n",
        "print(f\" {numero1} / {numero2} = {division}\")\n",
        "print(f\" {numero1} x {numero2} = {multiplicacion}\")"
      ],
      "metadata": {
        "id": "hMUFHkM9jBfj"
      },
      "execution_count": null,
      "outputs": []
    },
    {
      "cell_type": "markdown",
      "source": [
        "\n",
        "## Desafío 3: Formateo de Factura\n",
        "Escriba un programa que pueda tomar los detalles de los productos (nombre, cantidad, precio) y produzca una factura bien formateada.\n"
      ],
      "metadata": {
        "id": "ibgGu__hp5kQ"
      }
    },
    {
      "cell_type": "code",
      "source": [
        "print(\"Facturación de productos\")\n",
        "\n",
        "libros = []  # lista vacía para almacenar los libros\n",
        "\n",
        "while True:\n",
        "    # Pedir datos del libro\n",
        "    nombre = input(\"\\nNombre del libro (o 'x' para cerrar el programa): \")\n",
        "    if nombre.lower() == \"x\":\n",
        "        break\n",
        "    cantidad = int(input(\"Cantidad: \"))\n",
        "    precio = float(input(\"Precio: \"))\n",
        "\n",
        "    # Crear diccionario para este libro\n",
        "    libro = {\"nombre\": nombre, \"cantidad\": cantidad, \"precio\": precio}\n",
        "    libros.append(libro)\n",
        "\n",
        "# Mostrar factura\n",
        "total = 0\n",
        "for libro in libros:\n",
        "    subtotal = libro['cantidad'] * libro['precio']\n",
        "    total += subtotal\n",
        "    print(\"\")\n",
        "    print(\"Producto:\", libro['nombre'])\n",
        "    print(\"Cantidad:\", libro['cantidad'])\n",
        "    print(\"Precio:\", libro['precio'])\n",
        "    print(\"Subtotal:\", subtotal)\n",
        "    print(\"----------------------\")\n",
        "\n",
        "print(\"TOTAL:\", total)"
      ],
      "metadata": {
        "id": "XUr25VeGm55l"
      },
      "execution_count": null,
      "outputs": []
    },
    {
      "cell_type": "markdown",
      "source": [
        "\n",
        "## Desafío 4: Conversor de Moneda\n",
        "Escriba un programa que solicite al usuario que ingrese una cantidad en su moneda local y luego convierta esa cantidad a otra moneda usando una tasa de cambio proporcionada. El programa debe manejar la entrada de datos y formatear la salida adecuadamente.\n"
      ],
      "metadata": {
        "id": "8RtYxn0Rp639"
      }
    },
    {
      "cell_type": "code",
      "source": [
        "print(\"=== Conversor de Moneda ===\")\n",
        "\n",
        "cantidad = float(input(\"Ingrese la cantidad en pesos uruguayos (UYU): \"))\n",
        "\n",
        "print(\"\\n¿A qué moneda desea convertir?\")\n",
        "print(\"1. Dólares (USD)\")\n",
        "print(\"2. Euros (EUR)\")\n",
        "print(\"3. Reales (BRL)\")\n",
        "\n",
        "opcion = input(\"Elija una opción (1, 2 o 3): \")\n",
        "\n",
        "# Tasas reales aproximadas (hoy)\n",
        "tasa_usd = 39.94   # ejemplo para dólar\n",
        "tasa_eur = 46.81   # ejemplo para euro\n",
        "tasa_brl = 7.48    # la tasa de reales que encontramos\n",
        "\n",
        "if opcion == \"1\":\n",
        "    convertido = cantidad / tasa_usd\n",
        "    moneda = \"USD\"\n",
        "elif opcion == \"2\":\n",
        "    convertido = cantidad / tasa_eur\n",
        "    moneda = \"EUR\"\n",
        "elif opcion == \"3\":\n",
        "    convertido = cantidad / tasa_brl\n",
        "    moneda = \"BRL\"\n",
        "else:\n",
        "    print(\"Opción inválida.\")\n",
        "    quit()\n",
        "\n",
        "print(\"\\n------------------------------\")\n",
        "print(\"CONVERSIÓN DE MONEDA\")\n",
        "print(\"------------------------------\")\n",
        "print(f\"Monto original: {cantidad:.2f} UYU\")\n",
        "print(f\"Resultado: {convertido:.2f} {moneda}\")\n",
        "print(\"------------------------------\")"
      ],
      "metadata": {
        "id": "TSIrwZ7CoB_x"
      },
      "execution_count": null,
      "outputs": []
    },
    {
      "cell_type": "markdown",
      "source": [
        "\n",
        "## Desafío 5: Contador de Palabras\n",
        "Escriba un programa que permita al usuario ingresar un texto y luego cuente y muestre la cantidad de palabras que contiene el texto. El programa debe manejar la entrada de datos y formatear la salida adecuadamente."
      ],
      "metadata": {
        "id": "daj21mucp8Et"
      }
    },
    {
      "cell_type": "code",
      "source": [
        "print(\"Contador de Palabras\")\n",
        "\n",
        "# Pedimos el texto al usuario\n",
        "texto = input(\"Ingrese un texto: \")\n",
        "\n",
        "# Eliminamos espacios al inicio y al final (por si el usuario los pone sin querer)\n",
        "texto = texto.strip()\n",
        "\n",
        "# Dividimos el texto en palabras separadas por espacios\n",
        "palabras = texto.split()\n",
        "\n",
        "# Contamos la cantidad de palabras\n",
        "cantidad = len(palabras)\n",
        "\n",
        "# Mostramos el resultado formateado\n",
        "print(\"\")\n",
        "print(f\"Texto ingresado: {texto}\")\n",
        "print(f\"Cantidad de palabras: {cantidad}\")"
      ],
      "metadata": {
        "id": "RC9neW97obhv"
      },
      "execution_count": null,
      "outputs": []
    }
  ]
}