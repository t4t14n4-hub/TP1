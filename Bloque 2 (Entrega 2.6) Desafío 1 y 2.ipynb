{
  "nbformat": 4,
  "nbformat_minor": 0,
  "metadata": {
    "colab": {
      "provenance": [],
      "authorship_tag": "ABX9TyOen/X5JLWTZDO+QgFivM0p",
      "include_colab_link": true
    },
    "kernelspec": {
      "name": "python3",
      "display_name": "Python 3"
    },
    "language_info": {
      "name": "python"
    }
  },
  "cells": [
    {
      "cell_type": "markdown",
      "metadata": {
        "id": "view-in-github",
        "colab_type": "text"
      },
      "source": [
        "<a href=\"https://colab.research.google.com/github/t4t14n4-hub/TP1/blob/main/Bloque%202%20(Entrega%202.6)%20Desaf%C3%ADo%201%20y%202.ipynb\" target=\"_parent\"><img src=\"https://colab.research.google.com/assets/colab-badge.svg\" alt=\"Open In Colab\"/></a>"
      ]
    },
    {
      "cell_type": "markdown",
      "source": [
        "🔹 Desafío 1: Calificaciones aprobadas\n",
        "Contar cuántos estudiantes aprobaron y cuántos no, considerando 7 como nota mínima de aprobación. Usá condicionales para resolver el problema.\n",
        "\n",
        "Estructuras usadas: Utilicé un for para recorrer la lista y un condicional if-else para clasificar las notas.\n",
        "\n",
        "Operadores: Comparación >= para identificar aprobaciones.\n",
        "\n",
        "Dificultades: Inicialmente olvidé reiniciar los contadores, lo que provocó un error en los resultados. Lo solucioné inicializándolos fuera del ciclo.\n"
      ],
      "metadata": {
        "id": "3n2026oVgbF_"
      }
    },
    {
      "cell_type": "code",
      "source": [
        "# Lista de calificaciones\n",
        "calificaciones = [9, 5, 7, 4, 8, 10, 6, 3, 7, 8]\n",
        "\n",
        "# Contadores\n",
        "aprobados = 0\n",
        "no_aprobados = 0\n",
        "\n",
        "# Recorremos las calificaciones y aplicamos condicionales\n",
        "for nota in calificaciones:\n",
        "    if nota >= 7:\n",
        "        aprobados += 1\n",
        "    else:\n",
        "        no_aprobados += 1\n",
        "\n",
        "# Mostramos resultados\n",
        "print(\"Estudiantes aprobados:\", aprobados)\n",
        "print(\"Estudiantes no aprobados:\", no_aprobados)"
      ],
      "metadata": {
        "id": "DQIyPrhSgeYD",
        "colab": {
          "base_uri": "https://localhost:8080/"
        },
        "outputId": "37030368-cbcf-49a7-a51c-3e36cbc14acc"
      },
      "execution_count": 1,
      "outputs": [
        {
          "output_type": "stream",
          "name": "stdout",
          "text": [
            "Estudiantes aprobados: 6\n",
            "Estudiantes no aprobados: 4\n"
          ]
        }
      ]
    },
    {
      "cell_type": "code",
      "source": [
        "##OTRA FORA, MEDIANTE USO DE LISTAS.\n",
        "# Lista de calificaciones\n",
        "calificaciones = [9, 5, 7, 4, 8, 10, 6, 3, 7, 8]\n",
        "\n",
        "# listas\n",
        "aprobados = []\n",
        "noaprobados =[]\n",
        "\n",
        "# Recorremos las calificaciones y aplicamos condicionales\n",
        "for nota in calificaciones:\n",
        "    if nota >= 7:\n",
        "        aprobados.append(nota)\n",
        "    else:\n",
        "        noaprobados.append(nota)\n",
        "\n",
        "# Mostramos resultados\n",
        "print(f\"Estudiantes aprobados: {len(aprobados)}\" )\n",
        "print(f\"Estudiantes no aprobados: {len(noaprobados)}\")"
      ],
      "metadata": {
        "id": "LEodsd8ZefCc"
      },
      "execution_count": null,
      "outputs": []
    },
    {
      "cell_type": "markdown",
      "source": [
        "\n",
        "🔹 Desafío 2: Mejora del cálculo\n",
        "Modificar el código del cálculo de promedio para que permita ingresar todas las calificaciones en una sola línea, separadas por comas, y luego calcular el promedio automáticamente.\n",
        "\n",
        "Estructuras usadas: Utilicé comprensión de listas y métodos split() y strip() para procesar la entrada.\n",
        "\n",
        "Operadores: División / y funciones sum() y len().\n",
        "\n",
        "Dificultades: Tuve que asegurarme de convertir las cadenas a enteros y eliminar espacios para evitar errores. Probé distintos inputs hasta que funcionó correctamente."
      ],
      "metadata": {
        "id": "6_2-320HguhW"
      }
    },
    {
      "cell_type": "code",
      "source": [
        "# Ingreso de datos\n",
        "entrada = input(\"Ingresá las calificaciones separadas por comas: \")\n",
        "\n",
        "# Convertimos la cadena en una lista de enteros\n",
        "calificaciones = [int(nota.strip()) for nota in entrada.split(',')]\n",
        "\n",
        "# Calculamos el promedio\n",
        "promedio = sum(calificaciones) / len(calificaciones)\n",
        "\n",
        "# Mostramos el resultado\n",
        "print(\"El promedio de las calificaciones es:\", promedio)"
      ],
      "metadata": {
        "id": "5R_Kk5TKg6my"
      },
      "execution_count": null,
      "outputs": []
    },
    {
      "cell_type": "code",
      "source": [
        "# LO MEJORE CON EL USO DE WHILE TRUE, PARA QUE EL OPERADOR PUEDA INGRESAR POR SEPARADO LOS VALORES DE LOS CUALES QUIERE CALCULAR EL PROMEDIO\n",
        "numeros = [ ]\n",
        "\n",
        "print(\"Mediante este programa, podras calcular el promedio de una lista de números.\")\n",
        "print(\"\")\n",
        "comienzo = input(\"Presione enter para agregar un número: \")\n",
        "if comienzo == \"\":\n",
        "  while True:\n",
        "   numero = int(input(\"Ingrese el número de la lista: \"))\n",
        "   numeros.append (numero)\n",
        "\n",
        "   print (\"\")\n",
        "   print (f\"Se agrego {numero} a la lista\")\n",
        "   print (\"\")\n",
        "   print (\"Enter para agregar otro número\")\n",
        "   print (f\" x para calcular el promedio de la lista: {numeros}\")\n",
        "   print (\"\")\n",
        "\n",
        "   comienzo2 = input(\" \")\n",
        "\n",
        "   if comienzo2 == \"\":\n",
        "    continue\n",
        "\n",
        "   elif comienzo2 == \"x\":\n",
        "     promedio = sum(numeros) / len(numeros)\n",
        "     print(f\"La lista de números es: {numeros}\")\n",
        "     print (\"\")\n",
        "     print (f\" {sum(numeros)}/{len(numeros)} = {promedio} \")\n",
        "     print(f\"El promedio da como resultado: {promedio}\")\n",
        "     break\n",
        "\n"
      ],
      "metadata": {
        "id": "zXfwBp_7feqX"
      },
      "execution_count": null,
      "outputs": []
    },
    {
      "cell_type": "markdown",
      "source": [
        "Link GitHub\n",
        "https://github.com/t4t14n4-hub/TP1"
      ],
      "metadata": {
        "id": "vK_kevoLhN_J"
      }
    },
    {
      "cell_type": "markdown",
      "source": [
        "Webgrafía\n",
        "\n",
        "https://docs.python.org/3/tutorial/\n",
        "\n",
        "https://www.w3schools.com/python/\n",
        "\n",
        "https://realpython.com/\n",
        "\n"
      ],
      "metadata": {
        "id": "M8iD1HIphHYy"
      }
    }
  ]
}