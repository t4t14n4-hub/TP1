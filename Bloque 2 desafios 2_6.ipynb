{
  "nbformat": 4,
  "nbformat_minor": 0,
  "metadata": {
    "colab": {
      "provenance": [],
      "authorship_tag": "ABX9TyMYig9oUKSdMOkKAubhTkT7",
      "include_colab_link": true
    },
    "kernelspec": {
      "name": "python3",
      "display_name": "Python 3"
    },
    "language_info": {
      "name": "python"
    }
  },
  "cells": [
    {
      "cell_type": "markdown",
      "metadata": {
        "id": "view-in-github",
        "colab_type": "text"
      },
      "source": [
        "<a href=\"https://colab.research.google.com/github/t4t14n4-hub/TP1/blob/main/Bloque%202%20desafios%202_6.ipynb\" target=\"_parent\"><img src=\"https://colab.research.google.com/assets/colab-badge.svg\" alt=\"Open In Colab\"/></a>"
      ]
    },
    {
      "cell_type": "markdown",
      "source": [
        "## Desafío 3: Simulación de una carrera de autos\n",
        "\n",
        "Vas a simular una carrera de autos. Cada auto tiene una velocidad aleatoria (puedes usar la biblioteca random de Python) y cada ciclo del bucle representa un segundo de la carrera. Al final de cada segundo, cada auto avanza una distancia igual a su velocidad. La carrera dura 10 segundos. Al final de la carrera, debes imprimir el auto ganador. Si hay un empate, debes imprimir todos los autos que empataron.\n",
        "\n",
        "*Nota:* Este desafío puede requerir que aprendas sobre conceptos adicionales, por ejemplo cómo generar números aleatorios."
      ],
      "metadata": {
        "id": "MIfSFLYKqU_M"
      }
    },
    {
      "cell_type": "code",
      "source": [
        "import random\n",
        "import time\n",
        "\n",
        "print(\"Simulación de carrera de Fórmula 1 🏎️\")\n",
        "\n",
        "# Lista de autos\n",
        "autos = [\"Mercedes\", \"Ferrari\", \"Red Bull\"]\n",
        "# Diccionario para guardar la distancia de cada auto\n",
        "distancias = {auto: 0 for auto in autos}\n",
        "\n",
        "# Simulación de la carrera durante 10 segundos\n",
        "for segundo in range(1, 11):  # 10 segundos\n",
        "    print(f\"\\n--- Segundo {segundo} ---\")\n",
        "    for auto in autos:\n",
        "        # Cada auto obtiene una velocidad aleatoria entre 50 y 100 metros/segundo\n",
        "        velocidad = random.randint(50, 100)\n",
        "        distancias[auto] += velocidad\n",
        "        # Mostrar la distancia que avanzó este segundo y la total\n",
        "        print(f\"{auto} avanzó {velocidad} metros, distancia total: {distancias[auto]}\")\n",
        "\n",
        "    time.sleep(1)  # Pausa para simular tiempo real\n",
        "\n",
        "# Determinar el/los ganador(es)\n",
        "max_distancia = max(distancias.values())\n",
        "ganadores = [auto for auto, distancia in distancias.items() if distancia == max_distancia]\n",
        "\n",
        "# Mostrar resultados finales\n",
        "print(\"\\n🏁 ¡La carrera ha terminado!\")\n",
        "if len(ganadores) == 1:\n",
        "    print(f\"El ganador es {ganadores[0]} con {max_distancia} metros recorridos.\")\n",
        "else:\n",
        "    print(f\"¡Empate entre {', '.join(ganadores)} con {max_distancia} metros recorridos cada uno!\")"
      ],
      "metadata": {
        "colab": {
          "base_uri": "https://localhost:8080/"
        },
        "id": "GvbHD3x7evcK",
        "outputId": "25d4f189-3d69-4fb6-bd04-a2a04acb21d0"
      },
      "execution_count": 3,
      "outputs": [
        {
          "output_type": "stream",
          "name": "stdout",
          "text": [
            "Simulación de carrera de Fórmula 1 🏎️\n",
            "\n",
            "--- Segundo 1 ---\n",
            "Mercedes avanzó 58 metros, distancia total: 58\n",
            "Ferrari avanzó 82 metros, distancia total: 82\n",
            "Red Bull avanzó 69 metros, distancia total: 69\n",
            "\n",
            "--- Segundo 2 ---\n",
            "Mercedes avanzó 95 metros, distancia total: 153\n",
            "Ferrari avanzó 93 metros, distancia total: 175\n",
            "Red Bull avanzó 82 metros, distancia total: 151\n",
            "\n",
            "--- Segundo 3 ---\n",
            "Mercedes avanzó 88 metros, distancia total: 241\n",
            "Ferrari avanzó 86 metros, distancia total: 261\n",
            "Red Bull avanzó 94 metros, distancia total: 245\n",
            "\n",
            "--- Segundo 4 ---\n",
            "Mercedes avanzó 100 metros, distancia total: 341\n",
            "Ferrari avanzó 65 metros, distancia total: 326\n",
            "Red Bull avanzó 70 metros, distancia total: 315\n",
            "\n",
            "--- Segundo 5 ---\n",
            "Mercedes avanzó 81 metros, distancia total: 422\n",
            "Ferrari avanzó 59 metros, distancia total: 385\n",
            "Red Bull avanzó 54 metros, distancia total: 369\n",
            "\n",
            "--- Segundo 6 ---\n",
            "Mercedes avanzó 67 metros, distancia total: 489\n",
            "Ferrari avanzó 93 metros, distancia total: 478\n",
            "Red Bull avanzó 80 metros, distancia total: 449\n",
            "\n",
            "--- Segundo 7 ---\n",
            "Mercedes avanzó 74 metros, distancia total: 563\n",
            "Ferrari avanzó 89 metros, distancia total: 567\n",
            "Red Bull avanzó 58 metros, distancia total: 507\n",
            "\n",
            "--- Segundo 8 ---\n",
            "Mercedes avanzó 70 metros, distancia total: 633\n",
            "Ferrari avanzó 85 metros, distancia total: 652\n",
            "Red Bull avanzó 54 metros, distancia total: 561\n",
            "\n",
            "--- Segundo 9 ---\n",
            "Mercedes avanzó 99 metros, distancia total: 732\n",
            "Ferrari avanzó 72 metros, distancia total: 724\n",
            "Red Bull avanzó 61 metros, distancia total: 622\n",
            "\n",
            "--- Segundo 10 ---\n",
            "Mercedes avanzó 95 metros, distancia total: 827\n",
            "Ferrari avanzó 67 metros, distancia total: 791\n",
            "Red Bull avanzó 83 metros, distancia total: 705\n",
            "\n",
            "🏁 ¡La carrera ha terminado!\n",
            "El ganador es Mercedes con 827 metros recorridos.\n"
          ]
        }
      ]
    },
    {
      "cell_type": "markdown",
      "source": [
        "#Mini juego\n",
        "Con la idea de la carrera intente diseñar un pequeño juego, voy a seguir investigando como hacer para que el programa lea la tecla que digito sin el input."
      ],
      "metadata": {
        "id": "CuJZAn_2fBZ0"
      }
    },
    {
      "cell_type": "code",
      "execution_count": 4,
      "metadata": {
        "id": "dNEPqkdsqJgt",
        "colab": {
          "base_uri": "https://localhost:8080/"
        },
        "outputId": "7e9c062b-eaf3-4e07-f348-c28abab6fb40"
      },
      "outputs": [
        {
          "output_type": "stream",
          "name": "stdout",
          "text": [
            "Cars virtuales\n",
            "\n",
            "Reglas:\n",
            "Con una A veras representado tu auto, y con 0 los obstaculos\n",
            "Debes esquivar los obstaculos en 5 rondas\n",
            "\n",
            " w para moverte hacia adelante\n",
            " d para moverte hacia la derecha\n",
            " a para moverte hacia la izquierda\n",
            "\n",
            "Enter para continuar\n",
            "Selecciona el nivel de dificultad:\n",
            "1 Facil (De a 1 obstaulo)\n",
            "2 Medio (2 obstaculos)\n",
            "3 Dificil (3 obstaculos)\n",
            "4 Experto (4 obstaculos)\n",
            "1\n",
            "\n",
            "Ronda 1\n",
            "    0\n",
            "  A  \n",
            "Mover (a=izq, w=recto, d=der): w\n",
            "✅ ¡Esquivaste!\n",
            "\n",
            "Ronda 2\n",
            "0    \n",
            "  A  \n",
            "Mover (a=izq, w=recto, d=der): a\n",
            "✅ ¡Esquivaste!\n",
            "\n",
            "Ronda 3\n",
            "   0 \n",
            " A   \n",
            "Mover (a=izq, w=recto, d=der): d\n",
            "✅ ¡Esquivaste!\n",
            "\n",
            "Ronda 4\n",
            " 0   \n",
            "  A  \n",
            "Mover (a=izq, w=recto, d=der): d\n",
            "✅ ¡Esquivaste!\n",
            "\n",
            "Ronda 5\n",
            "0    \n",
            "   A \n",
            "Mover (a=izq, w=recto, d=der): a\n",
            "✅ ¡Esquivaste!\n",
            "\n",
            "🏁 Fin del juego. Puntaje total: 5\n"
          ]
        }
      ],
      "source": [
        "#importe para usar random\n",
        "import random\n",
        "\n",
        "\n",
        "#menu y reglas del juego.\n",
        "print(\"Cars virtuales\")\n",
        "print(\"\")\n",
        "print(\"Reglas:\")\n",
        "print(\"Con una A veras representado tu auto, y con 0 los obstaculos\")\n",
        "print(\"Debes esquivar los obstaculos en 5 rondas\")\n",
        "print(\"\")\n",
        "print(\" w para moverte hacia adelante\")\n",
        "print(\" d para moverte hacia la derecha\")\n",
        "print(\" a para moverte hacia la izquierda\")\n",
        "print(\"\")\n",
        "input (\"Enter para continuar\")\n",
        "print(\"Selecciona el nivel de dificultad:\")\n",
        "print(\"1 Facil (De a 1 obstaulo)\")\n",
        "print(\"2 Medio (2 obstaculos)\")\n",
        "print(\"3 Dificil (3 obstaculos)\")\n",
        "print(\"4 Experto (4 obstaculos)\")\n",
        "nivel = input(\"\")\n",
        "\n",
        "\n",
        "import random\n",
        "\n",
        "puntos = 0\n",
        "pos_auto = 3  # empieza en la columna 3\n",
        "columnas = 5\n",
        "\n",
        "for ronda in range(5):\n",
        "    print(f\"\\nRonda {ronda + 1}\")\n",
        "\n",
        "    # Generar un obstáculo aleatorio en columnas 1 a 5\n",
        "    obs = random.randint(1, columnas)\n",
        "\n",
        "    # Mostrar obstáculo\n",
        "    linea_obst = [\" \"] * columnas\n",
        "    linea_obst[obs - 1] = \"0\"\n",
        "    print(\"\".join(linea_obst))\n",
        "\n",
        "    # Mostrar auto\n",
        "    linea_auto = [\" \"] * columnas\n",
        "    linea_auto[pos_auto - 1] = \"A\"\n",
        "    print(\"\".join(linea_auto))\n",
        "\n",
        "    # Movimiento del jugador\n",
        "    mov = input(\"Mover (a=izq, w=recto, d=der): \")\n",
        "\n",
        "    # Actualizar posición del auto\n",
        "    if mov == \"a\" and pos_auto > 1:\n",
        "        pos_auto -= 1\n",
        "    elif mov == \"d\" and pos_auto < columnas:\n",
        "        pos_auto += 1\n",
        "\n",
        "    # Verificar colisión\n",
        "    if pos_auto == obs:\n",
        "        print(\"💥 ¡Chocaste!\")\n",
        "    else:\n",
        "        print(\"✅ ¡Esquivaste!\")\n",
        "        puntos += 1\n",
        "\n",
        "print(f\"\\n🏁 Fin del juego. Puntaje total: {puntos}\")\n",
        "\n",
        "\n",
        "\n"
      ]
    }
  ]
}