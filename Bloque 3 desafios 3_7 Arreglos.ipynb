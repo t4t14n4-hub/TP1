{
  "nbformat": 4,
  "nbformat_minor": 0,
  "metadata": {
    "colab": {
      "provenance": [],
      "authorship_tag": "ABX9TyNhxgZ8Y14MuAsEzZHDzGLd",
      "include_colab_link": true
    },
    "kernelspec": {
      "name": "python3",
      "display_name": "Python 3"
    },
    "language_info": {
      "name": "python"
    }
  },
  "cells": [
    {
      "cell_type": "markdown",
      "metadata": {
        "id": "view-in-github",
        "colab_type": "text"
      },
      "source": [
        "<a href=\"https://colab.research.google.com/github/t4t14n4-hub/TP1/blob/main/Bloque%203%20desafios%203_7%20Arreglos.ipynb\" target=\"_parent\"><img src=\"https://colab.research.google.com/assets/colab-badge.svg\" alt=\"Open In Colab\"/></a>"
      ]
    },
    {
      "cell_type": "markdown",
      "source": [
        "# Desafío 1: Gestión del stock de la verdulería\n",
        "\n",
        "¡Bienvenido al desafío de la verdulería! Has sido nombrado el nuevo gerente de una tienda de frutas, verduras y hortalizas. Tu tarea será manejar el stock de la tienda utilizando un arreglo. Aquí hay una serie de tareas que tendrás que completar.\n",
        "\n",
        "## Inventario inicial\n",
        "\n",
        "Aquí está el inventario inicial de la tienda:"
      ],
      "metadata": {
        "id": "shv37TKQum8b"
      }
    },
    {
      "cell_type": "code",
      "source": [
        "inventario = [\"manzanas\", \"bananas\", \"zanahorias\", \"espinacas\", \"brocoli\", \"cebolla\", \"kiwis\"]"
      ],
      "metadata": {
        "id": "GcKvcIQTvRKq"
      },
      "execution_count": 1,
      "outputs": []
    },
    {
      "cell_type": "markdown",
      "source": [
        "Pregunta 1: ¿Cuántos tipos de productos hay en el inventario inicial?\n",
        "\n"
      ],
      "metadata": {
        "id": "2FWTkud8vTYz"
      }
    },
    {
      "cell_type": "code",
      "source": [
        "inventario = [\"manzanas\", \"bananas\", \"zanahorias\", \"espinacas\", \"brocoli\", \"cebolla\", \"kiwis\"]\n",
        "cantidad = len(inventario)\n",
        "print(f\"Hay {cantidad} de elementos\")"
      ],
      "metadata": {
        "colab": {
          "base_uri": "https://localhost:8080/"
        },
        "id": "qzdFZ0EWQ4As",
        "outputId": "4f571c52-f6bc-495f-ad8a-43d3dcc2131a"
      },
      "execution_count": 2,
      "outputs": [
        {
          "output_type": "stream",
          "name": "stdout",
          "text": [
            "Hay 7 de elementos\n"
          ]
        }
      ]
    },
    {
      "cell_type": "markdown",
      "source": [
        "Pregunta 2: ¿Qué producto está en la tercera posición del inventario?"
      ],
      "metadata": {
        "id": "o7fEz_YAJKGZ"
      }
    },
    {
      "cell_type": "code",
      "source": [
        "inventario = [\"manzanas\", \"bananas\", \"zanahorias\", \"espinacas\", \"brocoli\", \"cebolla\", \"kiwis\"]\n",
        "print(f\"El tercer elemento de la lista es: {inventario[2]}\")"
      ],
      "metadata": {
        "colab": {
          "base_uri": "https://localhost:8080/"
        },
        "id": "coa31Du5Q9uq",
        "outputId": "5f341787-a5c4-4cab-dcb3-74399a75b72b"
      },
      "execution_count": 3,
      "outputs": [
        {
          "output_type": "stream",
          "name": "stdout",
          "text": [
            "El tercer elemento de la lista es: zanahorias\n"
          ]
        }
      ]
    },
    {
      "cell_type": "markdown",
      "source": [
        "Gestión del inventario\n",
        "Un cliente viene y compra todas las bananas.\n",
        "\n",
        "Pregunta 3: ¿Cómo actualizarías el inventario después de la venta?\n",
        "\n"
      ],
      "metadata": {
        "id": "_LBQXHDtvXKW"
      }
    },
    {
      "cell_type": "code",
      "source": [
        "inventario = [\"manzanas\", \"bananas\", \"zanahorias\", \"espinacas\", \"brocoli\", \"cebolla\", \"kiwis\"]\n",
        "\n",
        "inventario.remove(\"bananas\")\n",
        "#Se actualiza mediante un remove, debido a que no quedarian elementos de ese tipo en nuestro inventario\n",
        "\n",
        "print(inventario)"
      ],
      "metadata": {
        "colab": {
          "base_uri": "https://localhost:8080/"
        },
        "id": "DNf8HB5RQ_e-",
        "outputId": "4ed59647-3530-4d20-8b7d-0803393de8f2"
      },
      "execution_count": 7,
      "outputs": [
        {
          "output_type": "stream",
          "name": "stdout",
          "text": [
            "['manzanas', 'zanahorias', 'espinacas', 'brocoli', 'cebolla', 'kiwis']\n"
          ]
        }
      ]
    },
    {
      "cell_type": "markdown",
      "source": [
        "Ahora recibes un envío de nuevos productos: \"frutillas\", \"apio\" y \"papas\".\n",
        "\n",
        "Pregunta 4: ¿Cómo añadirías estos productos al inventario?\n",
        "\n",
        "\n"
      ],
      "metadata": {
        "id": "QSsY5h8hJMhr"
      }
    },
    {
      "cell_type": "code",
      "source": [
        "inventario = [\"manzanas\", \"bananas\", \"zanahorias\", \"espinacas\", \"brocoli\", \"cebolla\", \"kiwis\"]\n",
        "\n",
        "inventario.append(\"frutillas\")\n",
        "inventario.append(\"apio\")\n",
        "inventario.append(\"papas\")\n",
        "#Se actualiza mediante append, añadiendo elementos a la lista. Solo se puede agrgar de a un elemento.\n",
        "print(inventario)"
      ],
      "metadata": {
        "colab": {
          "base_uri": "https://localhost:8080/"
        },
        "id": "u3dPheAcRCDq",
        "outputId": "9ae54011-42c1-43e8-ef47-5a00b067eca3"
      },
      "execution_count": 8,
      "outputs": [
        {
          "output_type": "stream",
          "name": "stdout",
          "text": [
            "['manzanas', 'bananas', 'zanahorias', 'espinacas', 'brocoli', 'cebolla', 'kiwis', 'frutillas', 'apio', 'papas']\n"
          ]
        }
      ]
    },
    {
      "cell_type": "markdown",
      "source": [
        "Pregunta 5: ¿Cómo verificas si las \"papas\" están ahora en el inventario?\n",
        "\n"
      ],
      "metadata": {
        "id": "EnwplqG0JN6m"
      }
    },
    {
      "cell_type": "code",
      "source": [
        "inventario = [\"manzanas\", \"bananas\", \"zanahorias\", \"espinacas\", \"brocoli\", \"cebolla\", \"kiwis\"]\n",
        "\n",
        "inventario.append(\"frutillas\")\n",
        "inventario.append(\"apio\")\n",
        "inventario.append(\"papas\")\n",
        "\n",
        "print(f\"El inventario actual es: {inventario}\")"
      ],
      "metadata": {
        "colab": {
          "base_uri": "https://localhost:8080/"
        },
        "id": "WHn-SZSYRG07",
        "outputId": "5dbe9448-1363-4e14-ef52-2b7db081c7e6"
      },
      "execution_count": 9,
      "outputs": [
        {
          "output_type": "stream",
          "name": "stdout",
          "text": [
            "El inventario actual es: ['manzanas', 'bananas', 'zanahorias', 'espinacas', 'brocoli', 'cebolla', 'kiwis', 'frutillas', 'apio', 'papas']\n"
          ]
        }
      ]
    },
    {
      "cell_type": "markdown",
      "source": [
        "Un agricultor viene con una rara fruta llamada \"dragonfruit\", pero sólo tienes espacio para 7 productos en tu tienda.\n",
        "\n",
        "Pregunta 6: ¿Cómo decidirías qué producto sacar para hacer espacio para el \"dragonfruit\"?"
      ],
      "metadata": {
        "id": "5xM8zBUSJQFR"
      }
    },
    {
      "cell_type": "code",
      "source": [
        "#se debe revisar los productos, y al determinar cual es el menos vendido o cual esta mas cerca de expirar, se aplica el remove y se agrega el nuevo ingreso.\n",
        "\n",
        "inventario = [\"manzanas\", \"bananas\", \"zanahorias\", \"espinacas\", \"brocoli\", \"cebolla\", \"kiwis\"]\n",
        "#supongamos que el brocoli no tiene buena salida, porque se vende mas economico congelado en el supermercado\n",
        "\n",
        "inventario.remove(\"brocoli\")\n",
        "inventario.append(\"dragonfruit\")\n",
        "\n",
        "print(inventario)"
      ],
      "metadata": {
        "colab": {
          "base_uri": "https://localhost:8080/"
        },
        "id": "oibd4B6fRL9b",
        "outputId": "95ea2282-23b2-43fd-d158-aac1833212a9"
      },
      "execution_count": 11,
      "outputs": [
        {
          "output_type": "stream",
          "name": "stdout",
          "text": [
            "['manzanas', 'bananas', 'zanahorias', 'espinacas', 'cebolla', 'kiwis', 'dragonfruit']\n"
          ]
        }
      ]
    },
    {
      "cell_type": "markdown",
      "source": [
        "Ordenando el inventario Decides que sería más fácil gestionar el inventario si estuviera ordenado alfabéticamente.\n",
        "\n",
        "Pregunta 7: ¿Cómo ordenarías el inventario?\n"
      ],
      "metadata": {
        "id": "bDa8cAjsvb68"
      }
    },
    {
      "cell_type": "code",
      "source": [
        "inventario = [\"manzanas\", \"bananas\", \"zanahorias\", \"espinacas\", \"brocoli\", \"cebolla\", \"kiwis\"]\n",
        "\n",
        "#mediante varias fromas...\n",
        "\n",
        "#modificando la lista original de la A a la z\n",
        "inventario.sort()\n",
        "print(inventario)"
      ],
      "metadata": {
        "colab": {
          "base_uri": "https://localhost:8080/"
        },
        "id": "nW7cf9bzRPLe",
        "outputId": "26cd5ca0-83d3-456c-d7f6-25cd9ed25cea"
      },
      "execution_count": 13,
      "outputs": [
        {
          "output_type": "stream",
          "name": "stdout",
          "text": [
            "['bananas', 'brocoli', 'cebolla', 'espinacas', 'kiwis', 'manzanas', 'zanahorias']\n"
          ]
        }
      ]
    },
    {
      "cell_type": "code",
      "source": [
        "#de la Z a la a, modificando la lista original\n",
        "\n",
        "inventario = [\"manzanas\", \"bananas\", \"zanahorias\", \"espinacas\", \"brocoli\", \"cebolla\", \"kiwis\"]\n",
        "inventario.sort(reverse=True)\n",
        "\n",
        "print(inventario)\n"
      ],
      "metadata": {
        "colab": {
          "base_uri": "https://localhost:8080/"
        },
        "id": "TWBRriFdRRS1",
        "outputId": "8f319cc2-252e-46d9-eac5-757705cd57a4"
      },
      "execution_count": 14,
      "outputs": [
        {
          "output_type": "stream",
          "name": "stdout",
          "text": [
            "['zanahorias', 'manzanas', 'kiwis', 'espinacas', 'cebolla', 'brocoli', 'bananas']\n"
          ]
        }
      ]
    },
    {
      "cell_type": "code",
      "source": [
        "#sin modificar la lista orginal\n",
        "inventario = [\"manzanas\", \"bananas\", \"zanahorias\", \"espinacas\", \"brocoli\", \"cebolla\", \"kiwis\"]\n",
        "\n",
        "inventario_ordenado = sorted(inventario)\n",
        "\n",
        "print(\"El inventario original:\", inventario)\n",
        "print(\"Organizado:\", inventario_ordenado)\n"
      ],
      "metadata": {
        "colab": {
          "base_uri": "https://localhost:8080/"
        },
        "id": "GgsJK8i_RTD3",
        "outputId": "34850c64-8249-45e0-b0c6-a90f96012a79"
      },
      "execution_count": 19,
      "outputs": [
        {
          "output_type": "stream",
          "name": "stdout",
          "text": [
            "El inventario original: ['manzanas', 'bananas', 'zanahorias', 'espinacas', 'brocoli', 'cebolla', 'kiwis']\n",
            "Organizado ['bananas', 'brocoli', 'cebolla', 'espinacas', 'kiwis', 'manzanas', 'zanahorias']\n"
          ]
        }
      ]
    },
    {
      "cell_type": "code",
      "source": [
        "#de la z a la a sin modificar la lista original\n",
        "\n",
        "inventario = [\"manzanas\", \"bananas\", \"zanahorias\", \"espinacas\", \"brocoli\", \"cebolla\", \"kiwis\"]\n",
        "\n",
        "inventario_invertido = sorted(inventario, reverse = True)\n",
        "\n",
        "print(\"El inventario original:\", inventario)\n",
        "print(\"Organizado:\", inventario_invertido)"
      ],
      "metadata": {
        "colab": {
          "base_uri": "https://localhost:8080/"
        },
        "id": "LrHKhetnRVBg",
        "outputId": "20888a47-5be8-40e4-bb0e-1fd65b1cbfa1"
      },
      "execution_count": 20,
      "outputs": [
        {
          "output_type": "stream",
          "name": "stdout",
          "text": [
            "El inventario original: ['manzanas', 'bananas', 'zanahorias', 'espinacas', 'brocoli', 'cebolla', 'kiwis']\n",
            "Organizado: ['zanahorias', 'manzanas', 'kiwis', 'espinacas', 'cebolla', 'brocoli', 'bananas']\n"
          ]
        }
      ]
    },
    {
      "cell_type": "markdown",
      "source": [
        "\n",
        "Un nuevo empleado viene y necesita una copia del inventario para poder reponer los estantes.\n",
        "\n",
        "Pregunta 8: ¿Cómo proporcionarías una copia del inventario al nuevo empleado, asegurándote de que si el empleado hace cambios en su copia, el inventario original no se vea afectado?\n",
        "\n"
      ],
      "metadata": {
        "id": "sf5OPgNXJStI"
      }
    },
    {
      "cell_type": "code",
      "source": [
        "inventario = [\"manzanas\", \"bananas\", \"zanahorias\", \"espinacas\", \"brocoli\", \"cebolla\", \"kiwis\"]\n",
        "\n",
        "#usando slicing\n",
        "\n",
        "copia = inventario[:]"
      ],
      "metadata": {
        "id": "cH9suOWrRX9p"
      },
      "execution_count": 21,
      "outputs": []
    },
    {
      "cell_type": "code",
      "source": [
        "#funcion list\n",
        "\n",
        "inventario = [\"manzanas\", \"bananas\", \"zanahorias\", \"espinacas\", \"brocoli\", \"cebolla\", \"kiwis\"]\n",
        "\n",
        "copia = list(inventario)"
      ],
      "metadata": {
        "id": "s4EJlGL1RYfY"
      },
      "execution_count": 22,
      "outputs": []
    },
    {
      "cell_type": "code",
      "source": [
        "#usando copy metodo de lista de python 3\n",
        "inventario = [\"manzanas\", \"bananas\", \"zanahorias\", \"espinacas\", \"brocoli\", \"cebolla\", \"kiwis\"]\n",
        "\n",
        "copia = inventario.copy()"
      ],
      "metadata": {
        "id": "ZtmbbWIBRadn"
      },
      "execution_count": 23,
      "outputs": []
    },
    {
      "cell_type": "markdown",
      "source": [
        "\n",
        "# Desafío 3: Caracteres ASCII\n",
        "Eres un desarrollador creando una herramienta educativa que muestra los caracteres ASCII correspondientes a una lista de números. Se recomienda usar la función chr() para convertir los números en caracteres.\n",
        "\n"
      ],
      "metadata": {
        "id": "vsCEWCCjvimL"
      }
    },
    {
      "cell_type": "markdown",
      "source": [
        "\n",
        "ASCII: qué es y para qué sirve\n",
        "\n",
        "Qué es: ASCII (American Standard Code for Information Interchange) es una tabla que asigna un número a cada carácter (letra, número, símbolo o control) que la computadora puede entender.\n",
        "\n",
        "Para qué sirve: permite que las computadoras representen, almacenen y comuniquen texto usando solo números, ya que internamente ellas solo trabajan con números (bits).\n",
        "\n",
        "0–31 → caracteres de control (no visibles, ej: \\n, \\t)\n",
        "\n",
        "32 → espacio (' ')\n",
        "\n",
        "33–47 → símbolos y puntuación (! \" # $ % & ' ( ) * + , - . /)\n",
        "\n",
        "48–57 → números ('0'–'9')\n",
        "\n",
        "58–64 → símbolos y puntuación (: ; < = > ? @)\n",
        "\n",
        "65–90 → letras mayúsculas ('A'–'Z')\n",
        "\n",
        "91–96 → símbolos y puntuación ([ \\ ] ^ _ )\n",
        "\n",
        "97–122 → letras minúsculas ('a'–'z')\n",
        "\n",
        "123–126 → símbolos y puntuación ({ | } ~)\n",
        "\n",
        "127 → DEL (carácter de control)"
      ],
      "metadata": {
        "id": "uCh0KvMHRd-4"
      }
    },
    {
      "cell_type": "code",
      "source": [
        "# Lista de números ASCII\n",
        "numeros = [1, 34, 50, 66, 122]\n",
        "\n",
        "\n",
        "# Creamos una lista vacía para guardar los caracteres\n",
        "caracteres = []\n",
        "\n",
        "# Convertimos cada número en su carácter ASCII\n",
        "for numero in numeros:\n",
        "    caracteres.append(chr(numero))\n",
        "\n",
        "# Mostramos los resultados\n",
        "print(\"Números ASCII:\", numeros)\n",
        "print(\"Caracteres correspondientes:\", caracteres)\n",
        "\n"
      ],
      "metadata": {
        "colab": {
          "base_uri": "https://localhost:8080/"
        },
        "id": "PP9rMOiDRcdy",
        "outputId": "f1dfc0de-042f-47ce-a01c-ddd1c22fd990"
      },
      "execution_count": 24,
      "outputs": [
        {
          "output_type": "stream",
          "name": "stdout",
          "text": [
            "Números ASCII: [1, 34, 50, 66, 122]\n",
            "Caracteres correspondientes: ['\\x01', '\"', '2', 'B', 'z']\n"
          ]
        }
      ]
    },
    {
      "cell_type": "markdown",
      "source": [
        "# Desafío 4: Control de notas de estudiantes\n",
        "Como profesor, necesitas manejar las notas de tus estudiantes. Permite ingresar todas las notas de los estudiantes y realiza varias operaciones con esos datos.\n",
        "\n",
        "\n"
      ],
      "metadata": {
        "id": "7faPAJKLJXAv"
      }
    },
    {
      "cell_type": "code",
      "source": [
        "notas = [ ]\n",
        "\n",
        "while True:\n",
        " nota = int(input(\"Ingrese de a una las notas: \"))\n",
        " notas.append(nota)\n",
        " continuar = input(\"Enter para agregar otra, x para salir\")\n",
        " if continuar == \"\":\n",
        "  continue\n",
        " elif continuar == \"x\":\n",
        "  break\n",
        " else:\n",
        "  print(\"Digito incorrecto\")\n",
        "\n",
        "print(notas)\n",
        "\n",
        ""
      ],
      "metadata": {
        "colab": {
          "base_uri": "https://localhost:8080/"
        },
        "id": "uRdLNlbXRi7P",
        "outputId": "2f9c1eaa-f894-4ae5-afaf-13e52cf211d8"
      },
      "execution_count": 26,
      "outputs": [
        {
          "output_type": "stream",
          "name": "stdout",
          "text": [
            "Ingrese de a una las notas: 7\n",
            "Enter para agregar otra, x para salir\n",
            "Ingrese de a una las notas: 5\n",
            "Enter para agregar otra, x para salir\n",
            "Ingrese de a una las notas: 8\n",
            "Enter para agregar otra, x para salir\n",
            "Ingrese de a una las notas: 6\n",
            "Enter para agregar otra, x para salir\n",
            "Ingrese de a una las notas: 8\n",
            "Enter para agregar otra, x para salirx\n",
            "[7, 5, 8, 6, 8]\n"
          ]
        }
      ]
    },
    {
      "cell_type": "markdown",
      "source": [
        "**Pregunta 1: Calcula el promedio de las notas de la clase. ¿Cómo lo harías?**\n",
        "\n"
      ],
      "metadata": {
        "id": "Nbh-ku5GJZWo"
      }
    },
    {
      "cell_type": "code",
      "source": [
        "notas = [ ]\n",
        "\n",
        "while True:\n",
        " nota = int(input(\"Ingrese de a una las notas: \"))\n",
        " notas.append(nota)\n",
        " continuar = input(\"Enter para agregar otra, x para salir\")\n",
        " if continuar == \"\":\n",
        "  continue\n",
        " elif continuar == \"x\":\n",
        "  break\n",
        " else:\n",
        "  print(\"Digito incorrecto\")\n",
        "\n",
        "print(notas)\n",
        "\n",
        "promedio = sum(notas) / len(notas)\n",
        "print(f\"El promedio es: {promedio}\")\n"
      ],
      "metadata": {
        "colab": {
          "base_uri": "https://localhost:8080/"
        },
        "id": "t9_lcwHRRk7l",
        "outputId": "2ba124ed-2572-4dde-9736-9062e059751b"
      },
      "execution_count": 27,
      "outputs": [
        {
          "output_type": "stream",
          "name": "stdout",
          "text": [
            "Ingrese de a una las notas: 7\n",
            "Enter para agregar otra, x para salir\n",
            "Ingrese de a una las notas: 5\n",
            "Enter para agregar otra, x para salir\n",
            "Ingrese de a una las notas: 8\n",
            "Enter para agregar otra, x para salir\n",
            "Ingrese de a una las notas: 6\n",
            "Enter para agregar otra, x para salir\n",
            "Ingrese de a una las notas: 8\n",
            "Enter para agregar otra, x para salirx\n",
            "[7, 5, 8, 6, 8]\n",
            "El promedio es: 6.8\n"
          ]
        }
      ]
    },
    {
      "cell_type": "markdown",
      "source": [
        "**Pregunta 2: Encuentra la nota más baja y la más alta. ¿Cómo lo harías?**\n",
        "\n"
      ],
      "metadata": {
        "id": "ovCcdNKMJbHa"
      }
    },
    {
      "cell_type": "code",
      "source": [
        "notas = [ ]\n",
        "\n",
        "while True:\n",
        " nota = int(input(\"Ingrese de a una las notas: \"))\n",
        " notas.append(nota)\n",
        " continuar = input(\"Enter para agregar otra, x para salir\")\n",
        " if continuar == \"\":\n",
        "  continue\n",
        " elif continuar == \"x\":\n",
        "  break\n",
        " else:\n",
        "  print(\"Digito incorrecto\")\n",
        "\n",
        "print(notas)\n",
        "\n",
        "promedio = sum(notas) / len(notas)\n",
        "print(f\"El promedio es: {promedio}\")\n",
        "\n",
        "\n",
        "nota_mas_baja = min(notas)\n",
        "\n",
        "print(f\"La nota mas alta es {max(notas)}\")\n",
        "print(f\"La nota más baja es:\", nota_mas_baja)\n",
        "\n",
        "#se puede calcular dentro del print o fuera en una linea aparte.\n",
        "\n"
      ],
      "metadata": {
        "colab": {
          "base_uri": "https://localhost:8080/"
        },
        "id": "-sr9kbyiRm22",
        "outputId": "96342802-e343-4174-d2d1-858ec44b7a5b"
      },
      "execution_count": 28,
      "outputs": [
        {
          "output_type": "stream",
          "name": "stdout",
          "text": [
            "Ingrese de a una las notas: 7\n",
            "Enter para agregar otra, x para salir\n",
            "Ingrese de a una las notas: 5\n",
            "Enter para agregar otra, x para salir\n",
            "Ingrese de a una las notas: 8\n",
            "Enter para agregar otra, x para salir\n",
            "Ingrese de a una las notas: 6\n",
            "Enter para agregar otra, x para salir\n",
            "Ingrese de a una las notas: 8\n",
            "Enter para agregar otra, x para salirx\n",
            "[7, 5, 8, 6, 8]\n",
            "El promedio es: 6.8\n",
            " La nota mas alta es 8\n",
            "La nota más baja es: 5\n"
          ]
        }
      ]
    },
    {
      "cell_type": "markdown",
      "source": [
        "**Pregunta 3: Identifica la nota que más se repite. ¿Cómo lo harías?**\n",
        "\n",
        "_Nota:_ La función Counter es útil porque simplifica el conteo de elementos en una lista, permitiendo identificar rápidamente la frecuencia de cada nota.\n",
        "\n"
      ],
      "metadata": {
        "id": "597Xz6jfJclT"
      }
    },
    {
      "cell_type": "code",
      "source": [
        "from collections import Counter #se usa from typing import counter para anotar el tipo de dato\n",
        "\n",
        "\n",
        "notas = [ ]\n",
        "\n",
        "while True:\n",
        " nota = int(input(\"Ingrese de a una las notas: \"))\n",
        " notas.append(nota)\n",
        " continuar = input(\"Enter para agregar otra, x para salir\")\n",
        " if continuar == \"\":\n",
        "  continue\n",
        " elif continuar == \"x\":\n",
        "  break\n",
        " else:\n",
        "  print(\"Digito incorrecto\")\n",
        "\n",
        "print(notas)\n",
        "\n",
        "promedio = sum(notas) / len(notas)\n",
        "print(f\"El promedio es: {promedio}\")\n",
        "\n",
        "\n",
        "nota_mas_baja = min(notas)\n",
        "\n",
        "print(f\"La nota mas alta es {max(notas)}\")\n",
        "print(f\"La nota más baja es:\", nota_mas_baja)\n",
        "\n",
        "conteo = Counter(notas)\n",
        "\n",
        "#muestra el mas repetido:\n",
        "print(f\"El elemento que aparece mas veces es: {conteo.most_common(1)}\")\n"
      ],
      "metadata": {
        "colab": {
          "base_uri": "https://localhost:8080/"
        },
        "id": "i_W3SxG1RpHK",
        "outputId": "7d9e7336-394b-4422-8c81-a85c9304254e"
      },
      "execution_count": 30,
      "outputs": [
        {
          "output_type": "stream",
          "name": "stdout",
          "text": [
            "Ingrese de a una las notas: 7\n",
            "Enter para agregar otra, x para salir\n",
            "Ingrese de a una las notas: 5\n",
            "Enter para agregar otra, x para salir\n",
            "Ingrese de a una las notas: 8\n",
            "Enter para agregar otra, x para salir\n",
            "Ingrese de a una las notas: 6\n",
            "Enter para agregar otra, x para salir\n",
            "Ingrese de a una las notas: 8\n",
            "Enter para agregar otra, x para salirx\n",
            "[7, 5, 8, 6, 8]\n",
            "El promedio es: 6.8\n",
            "La nota mas alta es 8\n",
            "La nota más baja es: 5\n",
            "El elemento que aparece mas veces es: [(8, 2)]\n"
          ]
        }
      ]
    },
    {
      "cell_type": "markdown",
      "source": [
        "**Pregunta 4 (Plus): Realiza un gráfico de barras con las notas. ¿Cómo lo harías?**\n",
        "\n",
        "_Nota:_ La biblioteca matplotlib.pyplot es útil porque proporciona funciones fáciles de usar para crear visualizaciones de datos, como gráficos de barras, que pueden ayudar a visualizar la distribución de las notas de manera clara y comprensible."
      ],
      "metadata": {
        "id": "8M0PavRRJeBQ"
      }
    },
    {
      "cell_type": "code",
      "source": [
        "\n",
        "import matplotlib.pyplot as plt\n",
        "from collections import Counter\n",
        "\n",
        "notas = [7, 8, 9, 7, 10, 8, 7, 9]\n",
        "\n",
        "conteo = Counter(notas)\n",
        "plt.bar(list(conteo.keys()), list(conteo.values()), color='skyblue')\n",
        "plt.xlabel('Notas')\n",
        "plt.ylabel('Cantidad de alumnos')\n",
        "plt.title('Distribución de notas')\n",
        "plt.show()"
      ],
      "metadata": {
        "colab": {
          "base_uri": "https://localhost:8080/",
          "height": 472
        },
        "id": "Q_uCwwIsRrhV",
        "outputId": "f5e16738-a3a6-4ead-df64-f4f570cf26b4"
      },
      "execution_count": 31,
      "outputs": [
        {
          "output_type": "display_data",
          "data": {
            "text/plain": [
              "<Figure size 640x480 with 1 Axes>"
            ],
            "image/png": "[encoded data removed]"
          },
          "metadata": {}
        }
      ]
    }
  ]
}