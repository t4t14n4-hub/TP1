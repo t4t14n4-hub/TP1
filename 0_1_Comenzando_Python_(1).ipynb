{
  "cells": [
    {
      "cell_type": "markdown",
      "metadata": {
        "id": "view-in-github",
        "colab_type": "text"
      },
      "source": [
        "<a href=\"https://colab.research.google.com/github/t4t14n4-hub/TP1/blob/main/0_1_Comenzando_Python_(1).ipynb\" target=\"_parent\"><img src=\"https://colab.research.google.com/assets/colab-badge.svg\" alt=\"Open In Colab\"/></a>"
      ]
    },
    {
      "cell_type": "markdown",
      "source": [
        "Desafío 1: Suma de Dos Números (tema1-1des1)\n",
        "Objetivo: Crear un programa que sume dos números predefinidos y muestre el resultado.\n",
        "Descripción:\n",
        "Define dos variables con números específicos asignados por ti.\n",
        "Suma esos dos números y almacena el resultado en una tercera variable.\n",
        "Muestra el resultado de la suma.\n"
      ],
      "metadata": {
        "id": "N96Cl6BV04pn"
      },
      "id": "N96Cl6BV04pn"
    },
    {
      "cell_type": "code",
      "source": [
        "print(\"Este programa nos ayuda a realizar una suma entre dos números enteros\")\n",
        "numero1 = 5\n",
        "numero2 = 8\n",
        "\n",
        "resultado = numero1 + numero2\n",
        "print(f\"{numero1} + {numero2} = {resultado}\") #Presentación de forma completa del resultado.\n",
        "print(f\"El resultado de la suma es {resultado}\")\n"
      ],
      "metadata": {
        "colab": {
          "base_uri": "https://localhost:8080/"
        },
        "id": "VZmE4Ctc1Hkx",
        "outputId": "b57bc62e-2c72-41e3-bdd7-389eb37071fb"
      },
      "id": "VZmE4Ctc1Hkx",
      "execution_count": 29,
      "outputs": [
        {
          "output_type": "stream",
          "name": "stdout",
          "text": [
            "Este programa nos ayuda a realizar una suma entre dos números enteros\n",
            "5 + 8 = 13\n",
            "El resultado de la suma es 13\n"
          ]
        }
      ]
    },
    {
      "cell_type": "markdown",
      "source": [
        "Desafío 2: Calcular el Área de un Rectángulo con Presentación (tema1-1des2)\n",
        "Objetivo: Escribir un programa que, utilizando valores predefinidos, calcule el área de un rectángulo y presente los resultados de manera amigable utilizando texto.\n",
        "Descripción:\n",
        "Define dos variables numéricas que representen el ancho y el largo de un rectángulo.\n",
        "Define variables de tipo string que contengan texto explicativo sobre lo que hace el programa.\n",
        "Calcula el área del rectángulo (ancho x largo).\n",
        "Utiliza tanto variables numéricas como de texto para presentar el resultado de una manera que sea fácil de entender para alguien que no está viendo el código."
      ],
      "metadata": {
        "id": "wxzlEUUP1H8K"
      },
      "id": "wxzlEUUP1H8K"
    },
    {
      "cell_type": "code",
      "source": [
        "print(\"Este progama nos ayuda a calcular el área de un rectangulo, dicho rectangulo mide 5cm de ancho y 7 de largo.\")#se presenta el programa, planteando su finalidad.\n",
        "ancho = 5 #se determinan los valores predefinidos de ancho y largo\n",
        "largo = 7\n",
        "\n",
        "area = ancho * largo\n",
        "#se plantea la ecucación que el programa necesita para determinar el área\n",
        "#se plantea para cualquier rectangulo, sin importar si cambiamos los valores predefinidos\n",
        "\n",
        "\n",
        "print(f\"{ancho} * {largo} = {area}\")# se necesita de cadenas literales formateadas, debido a que se incertaron variables.\n",
        "#se presenta al usuario, como se observa la formula del calculo, con la finalidad de presentarlo de forma mas completa\n",
        "print(f\"El área del rectangulo es: {area}\")\n",
        "#se le brinda al usuario, una respuesta completa, junto con el resultado\n",
        "\n",
        "\n",
        "#se podria haber resuelto de una forma mas sencilla, como desafio personal lo deje encaminado hacia uno que le pregunte al usuario los valores de ancho y largo.\n",
        "#Para con esos datos calcular automaticamente el área\n"
      ],
      "metadata": {
        "colab": {
          "base_uri": "https://localhost:8080/"
        },
        "id": "8GjzEctF1Mc3",
        "outputId": "9bc0d14b-3281-4919-c8b8-0f412e2c0126"
      },
      "id": "8GjzEctF1Mc3",
      "execution_count": 25,
      "outputs": [
        {
          "output_type": "stream",
          "name": "stdout",
          "text": [
            "Este progama nos ayuda a calcular el área de un rectangulo, dicho rectangulo mide 5cm de ancho y 7 de largo.\n",
            "5 * 7 = 35\n",
            "El área del rectangulo es: 35\n"
          ]
        }
      ]
    }
  ],
  "metadata": {
    "colab": {
      "provenance": [],
      "include_colab_link": true
    },
    "kernelspec": {
      "display_name": "Python 3",
      "language": "python",
      "name": "python3"
    },
    "language_info": {
      "codemirror_mode": {
        "name": "ipython",
        "version": 3
      },
      "file_extension": ".py",
      "mimetype": "text/x-python",
      "name": "python",
      "nbconvert_exporter": "python",
      "pygments_lexer": "ipython3",
      "version": "3.11.1"
    }
  },
  "nbformat": 4,
  "nbformat_minor": 5
}