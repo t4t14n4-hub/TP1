{
  "nbformat": 4,
  "nbformat_minor": 0,
  "metadata": {
    "colab": {
      "provenance": [],
      "authorship_tag": "ABX9TyOoP1rDviDMfQKRMjOkPGjR",
      "include_colab_link": true
    },
    "kernelspec": {
      "name": "python3",
      "display_name": "Python 3"
    },
    "language_info": {
      "name": "python"
    }
  },
  "cells": [
    {
      "cell_type": "markdown",
      "metadata": {
        "id": "view-in-github",
        "colab_type": "text"
      },
      "source": [
        "<a href=\"https://colab.research.google.com/github/t4t14n4-hub/TP1/blob/main/Bloque%204%20Desaf%C3%ADo%2047.ipynb\" target=\"_parent\"><img src=\"https://colab.research.google.com/assets/colab-badge.svg\" alt=\"Open In Colab\"/></a>"
      ]
    },
    {
      "cell_type": "markdown",
      "source": [
        "Amplía la clase `Autor` para incluir una lista de libros escritos por el autor. Implementa métodos para agregar y eliminar libros de esta lista."
      ],
      "metadata": {
        "id": "uxA41G-q0Wey"
      }
    },
    {
      "cell_type": "code",
      "execution_count": null,
      "metadata": {
        "colab": {
          "base_uri": "https://localhost:8080/"
        },
        "id": "M7OhbFjOqTqb",
        "outputId": "924a06e0-8124-4f90-b4bc-d2c5c0998544"
      },
      "outputs": [
        {
          "output_type": "stream",
          "name": "stdout",
          "text": [
            "Tolkien\n",
            "\n",
            "El Hobbit\n",
            "El señor de los anillos\n",
            "El Silmarilion\n",
            "\n",
            "Tolkien\n",
            "\n",
            "El Hobbit\n",
            "El señor de los anillos\n"
          ]
        }
      ],
      "source": [
        "class Autor:\n",
        "    def __init__(self, nombre, nacionalidad):  # <- doble guion bajo\n",
        "        self.nombre = nombre\n",
        "        self.nacionalidad = nacionalidad\n",
        "\n",
        "    def actualizar(self, nombre, nacionalidad):\n",
        "        self.nombre = nombre\n",
        "        self.nacionalidad = nacionalidad\n",
        "\n",
        "#ampliar una clase\n",
        "class catalogo(Autor):\n",
        "  def __init__(self, nombre, nacionalidad):\n",
        "   super().__init__(nombre, nacionalidad)\n",
        "   self.obras = []\n",
        "\n",
        "  def agregar(self, obra):\n",
        "   self.obras.append(obra)\n",
        "\n",
        "  def eliminar(self, obra):\n",
        "   self.obras.remove(obra)\n",
        "\n",
        "\n",
        "  def listar(self):\n",
        "   print(self.nombre)\n",
        "   print(\"\")\n",
        "   for obra in self.obras:\n",
        "    print(obra)\n",
        "\n",
        "c = catalogo(\"Tolkien\", \"Británico\")\n",
        "c.agregar(\"El Hobbit\")\n",
        "c.agregar(\"El señor de los anillos\")\n",
        "c.agregar(\"El Silmarilion\")\n",
        "c.listar()\n",
        "\n",
        "print(\"\")\n",
        "c.eliminar(\"El Silmarilion\")\n",
        "c.listar()\n"
      ]
    }
  ]
}