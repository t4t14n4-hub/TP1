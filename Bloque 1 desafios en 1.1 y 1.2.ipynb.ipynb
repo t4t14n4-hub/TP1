{
  "cells": [
    {
      "cell_type": "markdown",
      "metadata": {
        "id": "view-in-github",
        "colab_type": "text"
      },
      "source": [
        "<a href=\"https://colab.research.google.com/github/t4t14n4-hub/TP1/blob/main/Bloque_1_desafios_en_1_1_y_1_2_ipynb.ipynb\" target=\"_parent\"><img src=\"https://colab.research.google.com/assets/colab-badge.svg\" alt=\"Open In Colab\"/></a>"
      ]
    },
    {
      "cell_type": "markdown",
      "source": [
        "#1.1"
      ],
      "metadata": {
        "id": "yB2E9Gbbm96r"
      },
      "id": "yB2E9Gbbm96r"
    },
    {
      "cell_type": "markdown",
      "source": [
        "Desafío 1: Suma de Dos Números (tema1-1des1)\n",
        "Objetivo: Crear un programa que sume dos números predefinidos y muestre el resultado.\n",
        "Descripción:\n",
        "Define dos variables con números específicos asignados por ti.\n",
        "Suma esos dos números y almacena el resultado en una tercera variable.\n",
        "Muestra el resultado de la suma.\n"
      ],
      "metadata": {
        "id": "N96Cl6BV04pn"
      },
      "id": "N96Cl6BV04pn"
    },
    {
      "cell_type": "code",
      "source": [
        "print(\"Este programa nos ayuda a realizar una suma entre dos números enteros\")\n",
        "numero1 = 5\n",
        "numero2 = 8\n",
        "\n",
        "resultado = numero1 + numero2\n",
        "print(f\"{numero1} + {numero2} = {resultado}\") #Presentación de forma completa del resultado.\n",
        "print(f\"El resultado de la suma es {resultado}\")\n",
        "#case o select case"
      ],
      "metadata": {
        "colab": {
          "base_uri": "https://localhost:8080/"
        },
        "id": "VZmE4Ctc1Hkx",
        "outputId": "29757eef-679a-458d-b156-e80cfaca6052"
      },
      "id": "VZmE4Ctc1Hkx",
      "execution_count": null,
      "outputs": [
        {
          "output_type": "stream",
          "name": "stdout",
          "text": [
            "Este programa nos ayuda a realizar una suma entre dos números enteros\n",
            "5 + 8 = 13\n",
            "El resultado de la suma es 13\n"
          ]
        }
      ]
    },
    {
      "cell_type": "markdown",
      "source": [
        "Desafío 2: Calcular el Área de un Rectángulo con Presentación (tema1-1des2)\n",
        "Objetivo: Escribir un programa que, utilizando valores predefinidos, calcule el área de un rectángulo y presente los resultados de manera amigable utilizando texto.\n",
        "Descripción:\n",
        "Define dos variables numéricas que representen el ancho y el largo de un rectángulo.\n",
        "Define variables de tipo string que contengan texto explicativo sobre lo que hace el programa.\n",
        "Calcula el área del rectángulo (ancho x largo).\n",
        "Utiliza tanto variables numéricas como de texto para presentar el resultado de una manera que sea fácil de entender para alguien que no está viendo el código."
      ],
      "metadata": {
        "id": "wxzlEUUP1H8K"
      },
      "id": "wxzlEUUP1H8K"
    },
    {
      "cell_type": "code",
      "source": [
        "print(\"Este progama nos ayuda a calcular el área de un rectangulo, dicho rectangulo mide 5cm de ancho y 7 de largo.\")#se presenta el programa, planteando su finalidad.\n",
        "ancho = 5 #se determinan los valores predefinidos de ancho y largo\n",
        "largo = 7\n",
        "\n",
        "area = ancho * largo\n",
        "#se plantea la ecucación que el programa necesita para determinar el área\n",
        "#se plantea para cualquier rectangulo, sin importar si cambiamos los valores predefinidos\n",
        "\n",
        "\n",
        "print(f\"{ancho} * {largo} = {area}\")# se necesita de cadenas literales formateadas, debido a que se incertaron variables.\n",
        "#se presenta al usuario, como se observa la formula del calculo, con la finalidad de presentarlo de forma mas completa\n",
        "print(f\"El área del rectangulo es: {area}\")\n",
        "#se le brinda al usuario, una respuesta completa, junto con el resultado\n",
        "\n",
        "\n",
        "#se podria haber resuelto de una forma mas sencilla, como desafio personal lo deje encaminado hacia uno que le pregunte al usuario los valores de ancho y largo.\n",
        "#Para con esos datos calcular automaticamente el área\n"
      ],
      "metadata": {
        "colab": {
          "base_uri": "https://localhost:8080/"
        },
        "id": "8GjzEctF1Mc3",
        "outputId": "ad27015b-efbf-40fd-bbb4-1f9ec93a112a"
      },
      "id": "8GjzEctF1Mc3",
      "execution_count": null,
      "outputs": [
        {
          "output_type": "stream",
          "name": "stdout",
          "text": [
            "Este progama nos ayuda a calcular el área de un rectangulo, dicho rectangulo mide 5cm de ancho y 7 de largo.\n",
            "5 * 7 = 35\n",
            "El área del rectangulo es: 35\n"
          ]
        }
      ]
    },
    {
      "cell_type": "markdown",
      "source": [
        "#1.2\n"
      ],
      "metadata": {
        "id": "jJ4PYxcTnBk2"
      },
      "id": "jJ4PYxcTnBk2"
    },
    {
      "cell_type": "markdown",
      "source": [
        "Desafío 1: Suma de los primeros n números naturales\n",
        "Descripción: Escribe un algoritmo que calcule la suma de los primeros n números naturales."
      ],
      "metadata": {
        "id": "Ne-TZTEknEHi"
      },
      "id": "Ne-TZTEknEHi"
    },
    {
      "cell_type": "code",
      "source": [],
      "metadata": {
        "id": "3e1dVRjHdxLw"
      },
      "id": "3e1dVRjHdxLw",
      "execution_count": null,
      "outputs": []
    },
    {
      "cell_type": "code",
      "source": [
        "numeros = [ ]\n",
        "suma = 0\n",
        "\n",
        "print(\"Mediante este programa, podras sumar valores en una lista.\")\n",
        "print(\"\")\n",
        "comienzo = input(\"Presione enter para agregar un número: \")\n",
        "if comienzo == \"\":\n",
        "  while True:\n",
        "   numero = int(input(\"Ingrese el número de la lista: \"))\n",
        "   numeros.append (numero)\n",
        "\n",
        "   print (\"\")\n",
        "   print (f\"Se agrego {numero} a la lista\")\n",
        "   print (\"\")\n",
        "   print (\"Enter para agregar otro número\")\n",
        "   print (\" x para imprimir los resultados\")\n",
        "   print (\"\")\n",
        "\n",
        "   comienzo2 = input(\" \")\n",
        "\n",
        "   if comienzo2 == \"\":\n",
        "    continue\n",
        "\n",
        "   elif comienzo2 == \"x\":\n",
        "     print(f\"La lista de números es: {numeros}\")\n",
        "     print (\"\")\n",
        "     print(\"Indique con número hasta que valor en la lista desea sumar\")\n",
        "     print(\"Por ejemplo, hasta el (4 - cuarto) número en la lista\")\n",
        "     print(\"\")\n",
        "     dato = int(input(\": \"))\n",
        "\n",
        "     for i in range (dato):\n",
        "       suma = suma + numeros [i]\n",
        "     print (f\"La suma de los {dato} primeros números es: {suma} \")\n",
        "\n",
        "\n",
        "\n",
        "\n",
        "\n",
        "\n",
        "\n",
        "\n",
        "\n",
        "\n",
        "\n",
        "\n",
        "\n"
      ],
      "metadata": {
        "colab": {
          "base_uri": "https://localhost:8080/"
        },
        "outputId": "9ee9f20e-95ca-4d20-f670-50b4817c630f",
        "id": "XXh7xK2AG3N4"
      },
      "execution_count": null,
      "outputs": [
        {
          "output_type": "stream",
          "name": "stdout",
          "text": [
            "Mediante este programa, podras sumar valores en una lista.\n",
            "\n",
            "Presione enter para agregar un número: \n",
            "Ingrese el número de la lista: 1\n",
            "\n",
            "Se agrego 1 a la lista\n",
            "\n",
            "Enter para agregar otro número\n",
            " x para imprimir los resultados\n",
            "\n",
            " \n",
            "Ingrese el número de la lista: 2\n",
            "\n",
            "Se agrego 2 a la lista\n",
            "\n",
            "Enter para agregar otro número\n",
            " x para imprimir los resultados\n",
            "\n",
            " \n",
            "Ingrese el número de la lista: 3\n",
            "\n",
            "Se agrego 3 a la lista\n",
            "\n",
            "Enter para agregar otro número\n",
            " x para imprimir los resultados\n",
            "\n",
            " \n",
            "Ingrese el número de la lista: 4\n",
            "\n",
            "Se agrego 4 a la lista\n",
            "\n",
            "Enter para agregar otro número\n",
            " x para imprimir los resultados\n",
            "\n",
            " \n",
            "Ingrese el número de la lista: 5\n",
            "\n",
            "Se agrego 5 a la lista\n",
            "\n",
            "Enter para agregar otro número\n",
            " x para imprimir los resultados\n",
            "\n",
            " \n",
            "Ingrese el número de la lista: 6\n",
            "\n",
            "Se agrego 6 a la lista\n",
            "\n",
            "Enter para agregar otro número\n",
            " x para imprimir los resultados\n",
            "\n",
            " x\n",
            "La lista de números es: [1, 2, 3, 4, 5, 6]\n",
            "\n",
            "Indique con número hasta que valor en la lista desea sumar\n",
            "Por ejemplo, hasta el (4 - cuarto) número en la lista\n",
            "\n",
            ": 3\n",
            "La suma de los 3 primeros números es: 6 \n"
          ]
        }
      ],
      "id": "XXh7xK2AG3N4"
    },
    {
      "cell_type": "markdown",
      "source": [
        "Desafío 2: Número de elementos pares en una lista\n",
        "Descripción: Escribe un algoritmo que cuente el número de elementos pares en una lista de números."
      ],
      "metadata": {
        "id": "oZIHc9WnnLCU"
      },
      "id": "oZIHc9WnnLCU"
    },
    {
      "cell_type": "code",
      "source": [
        "numeros = [ ]\n",
        "numerosp = [ ]\n",
        "numerosi = [ ]\n",
        "\n",
        "print(\"Mediante este programa, podras determinar apartir de una lista de números, cuales son pares y cuantos pares hay\")\n",
        "print(\"\")\n",
        "comienzo = input(\"Presione enter para agregar un número: \")\n",
        "if comienzo == \"\":\n",
        "  while True:\n",
        "   numero = int(input(\"Ingrese el número de la lista: \"))\n",
        "   numeros.append (numero)\n",
        "   if numero % 2 == 0:\n",
        "         numerosp.append (numero)\n",
        "   elif numero % 2 != 0:\n",
        "         numerosi.append (numero)\n",
        "   print (\"\")\n",
        "   print (f\"Se agrego {numero} a la lista\")\n",
        "   print (\"\")\n",
        "   print (\"Enter para agregar otro número\")\n",
        "   print (\" x para imprimir los resultados\")\n",
        "   print (\"\")\n",
        "\n",
        "   comienzo2 = input(\" \")\n",
        "\n",
        "   if comienzo2 == \"\":\n",
        "    continue\n",
        "   elif comienzo2 == \"x\":\n",
        "     print(f\"La lista de números es: {numeros}\")\n",
        "     sumacompleta = sum(numeros)\n",
        "     print(f\" Tiene un total de: {len(numeros)} elementos, que suman {sumacompleta}\")\n",
        "     print (\"\")\n",
        "     print(f\"La lista de números es: {numerosp}\")\n",
        "     sumapares = sum(numerosp)\n",
        "     print(f\" Tiene un total de: {len(numerosp)} elementos, que suman {sumapares}\")\n",
        "     print (\"\")\n",
        "     print(f\"La lista de números es: {numerosi}\")\n",
        "     sumaimpares = sum(numerosi)\n",
        "     print(f\" Tiene un total de: {len(numerosi)} elementos, que suman {sumaimpares}\")\n",
        "     break\n",
        "\n",
        "\n",
        "\n",
        "\n",
        "\n",
        "\n",
        "\n",
        "\n",
        "\n",
        "\n",
        "\n",
        "\n",
        "\n",
        ""
      ],
      "metadata": {
        "colab": {
          "base_uri": "https://localhost:8080/"
        },
        "id": "O5MnmOp6dzTg",
        "outputId": "154eb034-2543-430d-cb6d-7cf1409dff6b"
      },
      "id": "O5MnmOp6dzTg",
      "execution_count": 11,
      "outputs": [
        {
          "output_type": "stream",
          "name": "stdout",
          "text": [
            "Mediante este programa, podras determinar apartir de una lista de números, cuales son pares y cuantos pares hay\n",
            "\n",
            "Presione enter para agregar un número: \n",
            "Ingrese el número de la lista: 1\n",
            "\n",
            "Se agrego 1 a la lista\n",
            "\n",
            "Enter para agregar otro número\n",
            " x para imprimir los resultados\n",
            "\n",
            " \n",
            "Ingrese el número de la lista: 2\n",
            "\n",
            "Se agrego 2 a la lista\n",
            "\n",
            "Enter para agregar otro número\n",
            " x para imprimir los resultados\n",
            "\n",
            " \n",
            "Ingrese el número de la lista: 3\n",
            "\n",
            "Se agrego 3 a la lista\n",
            "\n",
            "Enter para agregar otro número\n",
            " x para imprimir los resultados\n",
            "\n",
            " \n",
            "Ingrese el número de la lista: 4\n",
            "\n",
            "Se agrego 4 a la lista\n",
            "\n",
            "Enter para agregar otro número\n",
            " x para imprimir los resultados\n",
            "\n",
            " \n",
            "Ingrese el número de la lista: 5\n",
            "\n",
            "Se agrego 5 a la lista\n",
            "\n",
            "Enter para agregar otro número\n",
            " x para imprimir los resultados\n",
            "\n",
            " x\n",
            "La lista de números es: [1, 2, 3, 4, 5]\n",
            " Tiene un total de: 5 elementos, que suman 15\n",
            "\n",
            "La lista de números es: [2, 4]\n",
            " Tiene un total de: 2 elementos, que suman 6\n",
            "\n",
            "La lista de números es: [1, 3, 5]\n",
            " Tiene un total de: 3 elementos, que suman 9\n"
          ]
        }
      ]
    }
  ],
  "metadata": {
    "colab": {
      "provenance": [],
      "include_colab_link": true
    },
    "kernelspec": {
      "display_name": "Python 3",
      "language": "python",
      "name": "python3"
    },
    "language_info": {
      "codemirror_mode": {
        "name": "ipython",
        "version": 3
      },
      "file_extension": ".py",
      "mimetype": "text/x-python",
      "name": "python",
      "nbconvert_exporter": "python",
      "pygments_lexer": "ipython3",
      "version": "3.11.1"
    }
  },
  "nbformat": 4,
  "nbformat_minor": 5
}
