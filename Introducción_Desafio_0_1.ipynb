{
  "nbformat": 4,
  "nbformat_minor": 0,
  "metadata": {
    "colab": {
      "provenance": [],
      "authorship_tag": "ABX9TyO2G57CkxS7fhGZAB3VWgpc",
      "include_colab_link": true
    },
    "kernelspec": {
      "name": "python3",
      "display_name": "Python 3"
    },
    "language_info": {
      "name": "python"
    }
  },
  "cells": [
    {
      "cell_type": "markdown",
      "metadata": {
        "id": "view-in-github",
        "colab_type": "text"
      },
      "source": [
        "<a href=\"https://colab.research.google.com/github/t4t14n4-hub/TP1/blob/main/Introducci%C3%B3n_Desafio_0_1.ipynb\" target=\"_parent\"><img src=\"https://colab.research.google.com/assets/colab-badge.svg\" alt=\"Open In Colab\"/></a>"
      ]
    },
    {
      "cell_type": "markdown",
      "source": [],
      "metadata": {
        "id": "kDR2ijUilzCb"
      }
    },
    {
      "cell_type": "markdown",
      "metadata": {
        "id": "2230c5d5"
      },
      "source": [
        "## 5. Crear y ejecutar tu primer programa en Python <a name=\"5.\"></a>\n",
        "\n",
        "Para tu primer programa en Python, escribirás un simple script que imprima `Hola Curso 2024` en la consola. Independientemente del editor o método que elijas, el código será el mismo:\n",
        "\n",
        "\n"
      ]
    },
    {
      "cell_type": "code",
      "source": [
        "print(\"Hola curso 2024\")"
      ],
      "metadata": {
        "id": "30KEeVMwl4kD"
      },
      "execution_count": null,
      "outputs": []
    }
  ]
}